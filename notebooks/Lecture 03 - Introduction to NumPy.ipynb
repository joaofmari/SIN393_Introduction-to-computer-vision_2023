{
 "cells": [
  {
   "cell_type": "markdown",
   "id": "0b717bea-ec8b-43f4-847c-3b9516c07e32",
   "metadata": {},
   "source": [
    "# **SIN 393 – Introduction to Computer Vision (2023)**\n",
    "\n",
    "# Lecture 03 - Introduction to NumPy\n",
    "\n",
    "Prof. João Fernando Mari ([*joaofmari.github.io*](https://joaofmari.github.io/))\n",
    "\n",
    "---"
   ]
  },
  {
   "cell_type": "markdown",
   "id": "e9bc27c3-4af7-40dc-b98f-a4d95cb07b95",
   "metadata": {},
   "source": [
    "* Material based on **Scipy Lecture Notes**.\n",
    "     * Available at: http://www.scipy-lectures.org/"
   ]
  },
  {
   "cell_type": "markdown",
   "id": "422088fd-31cc-4dd7-9499-6238e4ee428e",
   "metadata": {},
   "source": [
    "## Importing NumPy\n",
    "---\n",
    "* Import conventions.\n",
    "* NumPy documentation:\n",
    "    * http://docs.scipy.org/"
   ]
  },
  {
   "cell_type": "code",
   "execution_count": 1,
   "id": "2d206104-7582-4094-97d5-bcb5b12b8e4f",
   "metadata": {},
   "outputs": [],
   "source": [
    "import numpy as np"
   ]
  },
  {
   "cell_type": "markdown",
   "id": "4a494044-6793-46af-ac66-32a12f37f745",
   "metadata": {},
   "source": [
    "## NumPy arrays\n",
    "---\n",
    "* NumPy arrays are containers that provide fast numerical operations and efficient memory usage."
   ]
  },
  {
   "cell_type": "code",
   "execution_count": 2,
   "id": "2c187495-5edf-4eb3-a154-e64ead9eca38",
   "metadata": {},
   "outputs": [
    {
     "data": {
      "text/plain": [
       "array([0, 1, 2, 3])"
      ]
     },
     "execution_count": 2,
     "metadata": {},
     "output_type": "execute_result"
    }
   ],
   "source": [
    "a = np.array([0, 1, 2, 3])\n",
    "a"
   ]
  },
  {
   "cell_type": "markdown",
   "id": "cfb698cf-0dd0-4670-8e1e-adbd7aded273",
   "metadata": {},
   "source": [
    "* Computing the square of a sequence of 1000 integers using Python lists."
   ]
  },
  {
   "cell_type": "code",
   "execution_count": 3,
   "id": "e40f0f8c-4df0-4356-a5dd-289f9b063208",
   "metadata": {},
   "outputs": [
    {
     "name": "stdout",
     "output_type": "stream",
     "text": [
      "472 µs ± 55 µs per loop (mean ± std. dev. of 7 runs, 1,000 loops each)\n"
     ]
    }
   ],
   "source": [
    "# A Python list with 1000 integer numbers\n",
    "L = range(1000)\n",
    "\n",
    "%timeit [i**2 for i in L]"
   ]
  },
  {
   "cell_type": "markdown",
   "id": "bbc0f669-01e4-40b4-a62b-286964ef9cb7",
   "metadata": {},
   "source": [
    "* Computing the square of a sequence of 1000 integers using NumPy arrays."
   ]
  },
  {
   "cell_type": "code",
   "execution_count": 4,
   "id": "d49b0432-5028-4327-859c-3cd9c0b7153e",
   "metadata": {},
   "outputs": [
    {
     "name": "stdout",
     "output_type": "stream",
     "text": [
      "2.41 µs ± 644 ns per loop (mean ± std. dev. of 7 runs, 100,000 loops each)\n"
     ]
    }
   ],
   "source": [
    "# NumPy array with 1000 numbers\n",
    "a = np.arange(1000)\n",
    "%timeit a**2"
   ]
  },
  {
   "cell_type": "markdown",
   "id": "b406881e-acb0-4e04-903a-591860d7b0ae",
   "metadata": {},
   "source": [
    "## Creating NumPy arrays\n",
    "---\n",
    "\n",
    "### Creating arrays manually"
   ]
  },
  {
   "cell_type": "markdown",
   "id": "7270fa7f-9ce0-43ec-b164-e61006ed1239",
   "metadata": {},
   "source": [
    "#### 1D arrays"
   ]
  },
  {
   "cell_type": "code",
   "execution_count": 5,
   "id": "4a0d7016-c8d7-4746-aa24-bcdb28783f42",
   "metadata": {},
   "outputs": [
    {
     "data": {
      "text/plain": [
       "array([0, 1, 2, 3])"
      ]
     },
     "execution_count": 5,
     "metadata": {},
     "output_type": "execute_result"
    }
   ],
   "source": [
    "a = np.array([0, 1, 2, 3])\n",
    "a"
   ]
  },
  {
   "cell_type": "code",
   "execution_count": 6,
   "id": "dd1cbe9c-55f0-4956-82d3-d5fcc88674af",
   "metadata": {},
   "outputs": [
    {
     "name": "stdout",
     "output_type": "stream",
     "text": [
      "[0 1 2 3]\n",
      "<class 'numpy.ndarray'>\n",
      "4\n",
      "1\n",
      "(4,)\n"
     ]
    }
   ],
   "source": [
    "print(a)\n",
    "print(type(a))\n",
    "print(len(a))      \n",
    "print(a.ndim)\n",
    "print(a.shape)"
   ]
  },
  {
   "cell_type": "markdown",
   "id": "d09abdce-a041-4122-8cbf-f5f2f31a0ab5",
   "metadata": {},
   "source": [
    "#### 2D arrays"
   ]
  },
  {
   "cell_type": "code",
   "execution_count": 7,
   "id": "ddf9386f-fdfa-4577-b876-5085dae13f7f",
   "metadata": {},
   "outputs": [
    {
     "data": {
      "text/plain": [
       "array([[0, 1, 2],\n",
       "       [3, 4, 5]])"
      ]
     },
     "execution_count": 7,
     "metadata": {},
     "output_type": "execute_result"
    }
   ],
   "source": [
    "b = np.array([[0, 1, 2], \n",
    "              [3, 4, 5]])\n",
    "b"
   ]
  },
  {
   "cell_type": "code",
   "execution_count": 8,
   "id": "526a4b2a-111d-483a-8e59-a48ab3656dc5",
   "metadata": {},
   "outputs": [
    {
     "name": "stdout",
     "output_type": "stream",
     "text": [
      "[[0 1 2]\n",
      " [3 4 5]]\n",
      "<class 'numpy.ndarray'>\n",
      "2\n",
      "2\n",
      "(2, 3)\n"
     ]
    }
   ],
   "source": [
    "print(b)\n",
    "print(type(b))\n",
    "print(len(b))      \n",
    "print(b.ndim)\n",
    "print(b.shape)"
   ]
  },
  {
   "cell_type": "markdown",
   "id": "2244880b-498c-43ed-83d8-dc7aaa29dd6f",
   "metadata": {},
   "source": [
    "#### 3D arrays"
   ]
  },
  {
   "cell_type": "code",
   "execution_count": 9,
   "id": "b536afff-9318-4ff0-aab5-2831f99d79f6",
   "metadata": {},
   "outputs": [
    {
     "data": {
      "text/plain": [
       "array([[[ 1,  2,  3,  1],\n",
       "        [ 4,  5,  6,  5],\n",
       "        [ 7,  8,  9,  9]],\n",
       "\n",
       "       [[10, 11, 12, 10],\n",
       "        [13, 14, 15, 14],\n",
       "        [16, 17, 18, 18]]])"
      ]
     },
     "execution_count": 9,
     "metadata": {},
     "output_type": "execute_result"
    }
   ],
   "source": [
    "c = np.array([[[1,  2,  3,  1],\n",
    "               [4,  5,  6,  5],\n",
    "               [7,  8,  9,  9]],\n",
    "              [[10, 11, 12, 10],\n",
    "               [13, 14, 15, 14],\n",
    "               [16, 17, 18, 18]]])\n",
    "c"
   ]
  },
  {
   "cell_type": "code",
   "execution_count": 10,
   "id": "06e82f32-10f3-431f-b183-b8a40c188b2a",
   "metadata": {},
   "outputs": [
    {
     "name": "stdout",
     "output_type": "stream",
     "text": [
      "[[[ 1  2  3  1]\n",
      "  [ 4  5  6  5]\n",
      "  [ 7  8  9  9]]\n",
      "\n",
      " [[10 11 12 10]\n",
      "  [13 14 15 14]\n",
      "  [16 17 18 18]]]\n",
      "<class 'numpy.ndarray'>\n",
      "2\n",
      "3\n",
      "(2, 3, 4)\n"
     ]
    }
   ],
   "source": [
    "print(c)\n",
    "print(type(c))\n",
    "print(len(c))      \n",
    "print(c.ndim)\n",
    "print(c.shape)"
   ]
  },
  {
   "cell_type": "markdown",
   "id": "3ed40b0b-cf5c-4465-9a4f-ae3ca3249d09",
   "metadata": {},
   "source": [
    "### Functions for creating arrays\n",
    "\n",
    "* In practice, arrays are rarely created manually."
   ]
  },
  {
   "cell_type": "markdown",
   "id": "81aad77f-093f-42f6-8ed4-506d65f2b74c",
   "metadata": {},
   "source": [
    "#### Equaly spaced arrays"
   ]
  },
  {
   "cell_type": "code",
   "execution_count": 11,
   "id": "af85e6c4-4bc7-4c5a-bb07-baa0327054a1",
   "metadata": {},
   "outputs": [
    {
     "data": {
      "text/plain": [
       "array([0, 1, 2, 3, 4, 5, 6, 7, 8, 9])"
      ]
     },
     "execution_count": 11,
     "metadata": {},
     "output_type": "execute_result"
    }
   ],
   "source": [
    "a = np.arange(10) # 0 .. n-1\n",
    "a"
   ]
  },
  {
   "cell_type": "code",
   "execution_count": 12,
   "id": "89595562-0796-4ca7-b742-8a55394ed9a3",
   "metadata": {},
   "outputs": [
    {
     "data": {
      "text/plain": [
       "array([1, 3, 5, 7])"
      ]
     },
     "execution_count": 12,
     "metadata": {},
     "output_type": "execute_result"
    }
   ],
   "source": [
    "b = np.arange(1, 9, 2)\n",
    "b"
   ]
  },
  {
   "cell_type": "markdown",
   "id": "aed8135c-5b00-4bbc-892c-147757566ebd",
   "metadata": {},
   "source": [
    "* By number of points.\n",
    "     * Syntax: ```np.linspace(ini_val, end_val, num_points)```\n",
    "         - ```ini_val```: initial value;\n",
    "         - ```end_val```: final value;\n",
    "         - ```num_points```: number of points."
   ]
  },
  {
   "cell_type": "code",
   "execution_count": 13,
   "id": "4e0bf11d-4849-4af8-8246-9026e6818d4e",
   "metadata": {},
   "outputs": [
    {
     "data": {
      "text/plain": [
       "array([0. , 0.2, 0.4, 0.6, 0.8, 1. ])"
      ]
     },
     "execution_count": 13,
     "metadata": {},
     "output_type": "execute_result"
    }
   ],
   "source": [
    "c = np.linspace(0, 1, 6)\n",
    "c"
   ]
  },
  {
   "cell_type": "code",
   "execution_count": 14,
   "id": "85db5056-4b63-4bec-92f5-d3e3eb12aeb1",
   "metadata": {},
   "outputs": [
    {
     "data": {
      "text/plain": [
       "array([0. , 0.2, 0.4, 0.6, 0.8])"
      ]
     },
     "execution_count": 14,
     "metadata": {},
     "output_type": "execute_result"
    }
   ],
   "source": [
    "d = np.linspace(0, 1, 5, endpoint=False)\n",
    "d"
   ]
  },
  {
   "cell_type": "markdown",
   "id": "c9ba85c1-b132-483e-a4b7-55805cfeda29",
   "metadata": {},
   "source": [
    "### Common arrays"
   ]
  },
  {
   "cell_type": "code",
   "execution_count": 15,
   "id": "78f14d9a-0489-4be5-8278-72596aedf4c5",
   "metadata": {},
   "outputs": [
    {
     "data": {
      "text/plain": [
       "array([[1., 1., 1.],\n",
       "       [1., 1., 1.],\n",
       "       [1., 1., 1.]])"
      ]
     },
     "execution_count": 15,
     "metadata": {},
     "output_type": "execute_result"
    }
   ],
   "source": [
    "a = np.ones((3,3)) # (3, 3) é uma tupla\n",
    "a"
   ]
  },
  {
   "cell_type": "code",
   "execution_count": 16,
   "id": "9b41a63b-a3c5-4293-9d3c-34d88faaa902",
   "metadata": {},
   "outputs": [
    {
     "data": {
      "text/plain": [
       "array([[0., 0.],\n",
       "       [0., 0.]])"
      ]
     },
     "execution_count": 16,
     "metadata": {},
     "output_type": "execute_result"
    }
   ],
   "source": [
    "b = np.zeros((2,2))\n",
    "b"
   ]
  },
  {
   "cell_type": "code",
   "execution_count": 17,
   "id": "c4feec7f-6407-402c-b7d3-f519dbd4f1d3",
   "metadata": {},
   "outputs": [
    {
     "data": {
      "text/plain": [
       "array([[1., 0., 0.],\n",
       "       [0., 1., 0.],\n",
       "       [0., 0., 1.]])"
      ]
     },
     "execution_count": 17,
     "metadata": {},
     "output_type": "execute_result"
    }
   ],
   "source": [
    "c = np.eye(3)\n",
    "c"
   ]
  },
  {
   "cell_type": "code",
   "execution_count": 18,
   "id": "1b09692c-f7ac-4894-92a7-a1551ec0de07",
   "metadata": {},
   "outputs": [
    {
     "data": {
      "text/plain": [
       "array([[1, 0, 0, 0],\n",
       "       [0, 2, 0, 0],\n",
       "       [0, 0, 3, 0],\n",
       "       [0, 0, 0, 4]])"
      ]
     },
     "execution_count": 18,
     "metadata": {},
     "output_type": "execute_result"
    }
   ],
   "source": [
    "d = np.diag(np.array([1, 2, 3, 4]))\n",
    "d"
   ]
  },
  {
   "cell_type": "markdown",
   "id": "d6a4f12c-cf4f-4014-9206-0e8627ca67ed",
   "metadata": {},
   "source": [
    "#### Random numbers"
   ]
  },
  {
   "cell_type": "code",
   "execution_count": 19,
   "id": "a5160650-c084-4872-b8b1-31ce81e199c5",
   "metadata": {},
   "outputs": [
    {
     "data": {
      "text/plain": [
       "array([0.65611111, 0.33186913, 0.70212741, 0.51597449])"
      ]
     },
     "execution_count": 19,
     "metadata": {},
     "output_type": "execute_result"
    }
   ],
   "source": [
    "a = np.random.rand(4) # distribuição uniforme\n",
    "a"
   ]
  },
  {
   "cell_type": "code",
   "execution_count": 20,
   "id": "48878f04-a6dd-4455-9f00-31fbfbd576a8",
   "metadata": {},
   "outputs": [
    {
     "data": {
      "text/plain": [
       "array([ 1.99489439,  1.68063416, -0.66264699, -0.95745025])"
      ]
     },
     "execution_count": 20,
     "metadata": {},
     "output_type": "execute_result"
    }
   ],
   "source": [
    "b = np.random.randn(4) # distribuição gaussiana\n",
    "b"
   ]
  },
  {
   "cell_type": "code",
   "execution_count": 21,
   "id": "b039b70b-616a-4748-9c78-a4a6170d392b",
   "metadata": {},
   "outputs": [],
   "source": [
    "np.random.seed(1234) # define a semente para geração dos números aleatórios"
   ]
  },
  {
   "cell_type": "markdown",
   "id": "eff80343-dbd2-4709-ab6b-fbfa2cab993f",
   "metadata": {},
   "source": [
    "## Array data types\n",
    "---\n",
    "\n",
    "* The default data type of NumPy is float64"
   ]
  },
  {
   "cell_type": "code",
   "execution_count": 22,
   "id": "9879ca92-c51f-411c-9cf4-acb9bb653def",
   "metadata": {},
   "outputs": [
    {
     "data": {
      "text/plain": [
       "dtype('float64')"
      ]
     },
     "execution_count": 22,
     "metadata": {},
     "output_type": "execute_result"
    }
   ],
   "source": [
    "c = np.ones((3, 3))\n",
    "c.dtype"
   ]
  },
  {
   "cell_type": "markdown",
   "id": "cadca218-8a33-4887-8d11-5d3288156306",
   "metadata": {},
   "source": [
    "* When the array is created directly, the type is inferred from the data."
   ]
  },
  {
   "cell_type": "code",
   "execution_count": 23,
   "id": "ffccd412-b6bb-4b07-8a9d-0e30264ab3a0",
   "metadata": {},
   "outputs": [
    {
     "data": {
      "text/plain": [
       "dtype('int32')"
      ]
     },
     "execution_count": 23,
     "metadata": {},
     "output_type": "execute_result"
    }
   ],
   "source": [
    "c = np.array([1, 2, 3]) # inteiros (32 bits)\n",
    "c.dtype"
   ]
  },
  {
   "cell_type": "code",
   "execution_count": 24,
   "id": "f6f174c1-f0e3-4600-872c-63638e7e243a",
   "metadata": {},
   "outputs": [
    {
     "data": {
      "text/plain": [
       "dtype('float64')"
      ]
     },
     "execution_count": 24,
     "metadata": {},
     "output_type": "execute_result"
    }
   ],
   "source": [
    "c = np.array([1., 2, 3]) # float (64 bits)\n",
    "c.dtype"
   ]
  },
  {
   "cell_type": "markdown",
   "id": "6b834ad3-f7dc-471e-a7a2-e6386c09e1c4",
   "metadata": {},
   "source": [
    "* Other data types allowed:"
   ]
  },
  {
   "cell_type": "code",
   "execution_count": 25,
   "id": "b4f30fb5-37ec-4800-9f2d-5b29483a42be",
   "metadata": {},
   "outputs": [
    {
     "data": {
      "text/plain": [
       "dtype('complex128')"
      ]
     },
     "execution_count": 25,
     "metadata": {},
     "output_type": "execute_result"
    }
   ],
   "source": [
    "d = np.array([1+2j, 3+4j, 5+6j])\n",
    "d.dtype"
   ]
  },
  {
   "cell_type": "code",
   "execution_count": 26,
   "id": "2ab8b38e-f6dc-4efd-adc4-40f3bd1bc8aa",
   "metadata": {},
   "outputs": [
    {
     "data": {
      "text/plain": [
       "dtype('<U5')"
      ]
     },
     "execution_count": 26,
     "metadata": {},
     "output_type": "execute_result"
    }
   ],
   "source": [
    "f = np.array(['One', 'Two', 'Forty'])\n",
    "f.dtype"
   ]
  },
  {
   "cell_type": "markdown",
   "id": "24966b96-992f-48f5-bbad-dcd04fa25b55",
   "metadata": {},
   "source": [
    "* Other data types allowed:\n",
    "    * int16\n",
    "    * int32\n",
    "    * int64\n",
    "    * uint32\n",
    "    * float32\n",
    "    * ..."
   ]
  },
  {
   "cell_type": "markdown",
   "id": "4616f2de-0bfc-4621-971c-5993474c3760",
   "metadata": {},
   "source": [
    "## Basic visualization"
   ]
  },
  {
   "cell_type": "code",
   "execution_count": 27,
   "id": "69a4b75e-145a-4009-b804-7d59871bbc20",
   "metadata": {},
   "outputs": [],
   "source": [
    "import matplotlib.pyplot as plt"
   ]
  },
  {
   "cell_type": "markdown",
   "id": "86df2129-655c-4ddf-aa8f-d849a1415657",
   "metadata": {},
   "source": [
    "### Ploting 1D arrays "
   ]
  },
  {
   "cell_type": "code",
   "execution_count": 28,
   "id": "9015ee66-b027-46e5-b6ad-b75e59920878",
   "metadata": {},
   "outputs": [
    {
     "data": {
      "text/plain": [
       "array([0.        , 0.15789474, 0.31578947, 0.47368421, 0.63157895,\n",
       "       0.78947368, 0.94736842, 1.10526316, 1.26315789, 1.42105263,\n",
       "       1.57894737, 1.73684211, 1.89473684, 2.05263158, 2.21052632,\n",
       "       2.36842105, 2.52631579, 2.68421053, 2.84210526, 3.        ])"
      ]
     },
     "execution_count": 28,
     "metadata": {},
     "output_type": "execute_result"
    }
   ],
   "source": [
    "x = np.linspace(0, 3, 20)\n",
    "x"
   ]
  },
  {
   "cell_type": "code",
   "execution_count": 29,
   "id": "cc3cf761-6a97-44d1-a3e9-91008d2b6085",
   "metadata": {},
   "outputs": [
    {
     "data": {
      "text/plain": [
       "array([0.        , 0.02493075, 0.09972299, 0.22437673, 0.39889197,\n",
       "       0.6232687 , 0.89750693, 1.22160665, 1.59556787, 2.01939058,\n",
       "       2.49307479, 3.0166205 , 3.5900277 , 4.2132964 , 4.88642659,\n",
       "       5.60941828, 6.38227147, 7.20498615, 8.07756233, 9.        ])"
      ]
     },
     "execution_count": 29,
     "metadata": {},
     "output_type": "execute_result"
    }
   ],
   "source": [
    "y = x ** 2\n",
    "y"
   ]
  },
  {
   "cell_type": "code",
   "execution_count": 30,
   "id": "d7fc1d68-5e85-4711-9710-c9114e5362f6",
   "metadata": {},
   "outputs": [
    {
     "data": {
      "text/plain": [
       "[<matplotlib.lines.Line2D at 0x2dfbf47e790>]"
      ]
     },
     "execution_count": 30,
     "metadata": {},
     "output_type": "execute_result"
    },
    {
     "data": {
      "image/png": "[encoded data removed]",
      "text/plain": [
       "<Figure size 640x480 with 1 Axes>"
      ]
     },
     "metadata": {},
     "output_type": "display_data"
    }
   ],
   "source": [
    "plt.plot(x, y) # Plota uma linha"
   ]
  },
  {
   "cell_type": "code",
   "execution_count": 31,
   "id": "733bdf0b-3f65-4df9-a009-78cb3ea48a0a",
   "metadata": {},
   "outputs": [
    {
     "data": {
      "text/plain": [
       "[<matplotlib.lines.Line2D at 0x2dfbf4d6820>]"
      ]
     },
     "execution_count": 31,
     "metadata": {},
     "output_type": "execute_result"
    },
    {
     "data": {
      "image/png": "[encoded data removed]",
      "text/plain": [
       "<Figure size 640x480 with 1 Axes>"
      ]
     },
     "metadata": {},
     "output_type": "display_data"
    }
   ],
   "source": [
    "plt.plot(x, y, 'o')"
   ]
  },
  {
   "cell_type": "code",
   "execution_count": 32,
   "id": "7367e0cb-ff47-4055-942f-ca85a55c4caa",
   "metadata": {},
   "outputs": [
    {
     "data": {
      "text/plain": [
       "[<matplotlib.lines.Line2D at 0x2dfbf54dbb0>]"
      ]
     },
     "execution_count": 32,
     "metadata": {},
     "output_type": "execute_result"
    },
    {
     "data": {
      "image/png": "[encoded data removed]",
      "text/plain": [
       "<Figure size 640x480 with 1 Axes>"
      ]
     },
     "metadata": {},
     "output_type": "display_data"
    }
   ],
   "source": [
    "plt.plot(x, y)\n",
    "plt.plot(x, y, 'o')"
   ]
  },
  {
   "cell_type": "markdown",
   "id": "d8447aba-9d27-48d9-9445-016d23b75917",
   "metadata": {},
   "source": [
    "### Ploting 2D arrays"
   ]
  },
  {
   "cell_type": "code",
   "execution_count": 33,
   "id": "cf1e6ec0-dca0-461b-8b25-d7c1831df64b",
   "metadata": {},
   "outputs": [
    {
     "data": {
      "text/plain": [
       "<matplotlib.colorbar.Colorbar at 0x2dfbf5eb940>"
      ]
     },
     "execution_count": 33,
     "metadata": {},
     "output_type": "execute_result"
    },
    {
     "data": {
      "image/png": "[encoded data removed]",
      "text/plain": [
       "<Figure size 640x480 with 2 Axes>"
      ]
     },
     "metadata": {},
     "output_type": "display_data"
    }
   ],
   "source": [
    "imagem = np.random.rand(30, 30)\n",
    "plt.imshow(imagem)\n",
    "plt.colorbar()"
   ]
  },
  {
   "cell_type": "code",
   "execution_count": 34,
   "id": "689c573c-669c-45b9-aaa8-dcc38372a948",
   "metadata": {},
   "outputs": [
    {
     "data": {
      "text/plain": [
       "<matplotlib.colorbar.Colorbar at 0x2dfc16c8bb0>"
      ]
     },
     "execution_count": 34,
     "metadata": {},
     "output_type": "execute_result"
    },
    {
     "data": {
      "image/png": "[encoded data removed]",
      "text/plain": [
       "<Figure size 640x480 with 2 Axes>"
      ]
     },
     "metadata": {},
     "output_type": "display_data"
    }
   ],
   "source": [
    "plt.imshow(imagem, cmap='gray')\n",
    "plt.colorbar()"
   ]
  },
  {
   "cell_type": "markdown",
   "id": "4d7188f8-8d98-43af-bfd1-e24f689a8a9f",
   "metadata": {},
   "source": [
    "## Indexing and slicing\n",
    "\n",
    "* Elements of an array can be accessed and assigned by indexing and slicing in a similar way to Python collections (lists, tuples, ...)."
   ]
  },
  {
   "cell_type": "code",
   "execution_count": 35,
   "id": "bc1c0f63-46f9-4570-b4c6-d3eed90f55b4",
   "metadata": {},
   "outputs": [
    {
     "data": {
      "text/plain": [
       "array([ 0, 10, 20, 30, 40, 50, 60, 70, 80, 90])"
      ]
     },
     "execution_count": 35,
     "metadata": {},
     "output_type": "execute_result"
    }
   ],
   "source": [
    "a = np.arange(10) # 0 .. 9 \n",
    "a = a * 10\n",
    "a"
   ]
  },
  {
   "cell_type": "code",
   "execution_count": 36,
   "id": "8214b747-b4ad-43c3-b69b-1b7b18d36b50",
   "metadata": {},
   "outputs": [
    {
     "data": {
      "text/plain": [
       "(0, 20, 90, 80)"
      ]
     },
     "execution_count": 36,
     "metadata": {},
     "output_type": "execute_result"
    }
   ],
   "source": [
    "a[0], a[2], a[-1], a[-2]"
   ]
  },
  {
   "cell_type": "markdown",
   "id": "85655c8e-50a2-4f02-801a-74de5c396319",
   "metadata": {},
   "source": [
    "* Obtendo um arranjo na ordem reversa"
   ]
  },
  {
   "cell_type": "code",
   "execution_count": 37,
   "id": "d298fc6c-645b-4957-96ff-8b8e036655b6",
   "metadata": {},
   "outputs": [
    {
     "data": {
      "text/plain": [
       "array([90, 80, 70, 60, 50, 40, 30, 20, 10,  0])"
      ]
     },
     "execution_count": 37,
     "metadata": {},
     "output_type": "execute_result"
    }
   ],
   "source": [
    "a[::-1]"
   ]
  },
  {
   "cell_type": "markdown",
   "id": "cf013b4a-ccfe-411e-8045-74d02a0c81c6",
   "metadata": {},
   "source": [
    "### Indexing multidimensional arrays\n",
    "\n",
    "* Indices in multidimensional arrays are integer tuples"
   ]
  },
  {
   "cell_type": "code",
   "execution_count": 171,
   "id": "91c26186-5dc6-441d-87c5-0d79b4491738",
   "metadata": {},
   "outputs": [
    {
     "data": {
      "text/plain": [
       "array([[0, 0, 0],\n",
       "       [0, 1, 0],\n",
       "       [0, 0, 2]])"
      ]
     },
     "execution_count": 171,
     "metadata": {},
     "output_type": "execute_result"
    }
   ],
   "source": [
    "a = np.diag(np.arange(3)) # 3 x 3 identity matrix\n",
    "a"
   ]
  },
  {
   "cell_type": "code",
   "execution_count": 39,
   "id": "47884b4f-d795-468c-b571-b12b9f5afa4f",
   "metadata": {},
   "outputs": [
    {
     "data": {
      "text/plain": [
       "1"
      ]
     },
     "execution_count": 39,
     "metadata": {},
     "output_type": "execute_result"
    }
   ],
   "source": [
    "a[1, 1] # row 1, column 1"
   ]
  },
  {
   "cell_type": "code",
   "execution_count": 40,
   "id": "30354885-1a86-41e5-8cc1-4ff15c9001ef",
   "metadata": {},
   "outputs": [
    {
     "data": {
      "text/plain": [
       "0"
      ]
     },
     "execution_count": 40,
     "metadata": {},
     "output_type": "execute_result"
    }
   ],
   "source": [
    "a [2, 1] # row 2 (third row), column 1 (second column)"
   ]
  },
  {
   "cell_type": "code",
   "execution_count": 41,
   "id": "49ad6da2-6617-4d4a-8137-212c2e86fea8",
   "metadata": {},
   "outputs": [
    {
     "data": {
      "text/plain": [
       "array([0, 1, 0])"
      ]
     },
     "execution_count": 41,
     "metadata": {},
     "output_type": "execute_result"
    }
   ],
   "source": [
    "a[1,:] # entire line 1"
   ]
  },
  {
   "cell_type": "code",
   "execution_count": 42,
   "id": "0a04c2a0-b988-412b-bd47-af7f63926da0",
   "metadata": {},
   "outputs": [
    {
     "data": {
      "text/plain": [
       "array([0, 0, 2])"
      ]
     },
     "execution_count": 42,
     "metadata": {},
     "output_type": "execute_result"
    }
   ],
   "source": [
    "a[:,2] # entire column 2"
   ]
  },
  {
   "cell_type": "markdown",
   "id": "3f5d5beb-7871-4e3e-984a-efe535309b1c",
   "metadata": {},
   "source": [
    "### Atribuição por indexação"
   ]
  },
  {
   "cell_type": "code",
   "execution_count": 43,
   "id": "5ecdcf99-d67a-4263-b746-243ea4dc1b46",
   "metadata": {},
   "outputs": [
    {
     "data": {
      "text/plain": [
       "array([[ 0,  0,  0],\n",
       "       [ 0,  1,  0],\n",
       "       [ 0, 10,  2]])"
      ]
     },
     "execution_count": 43,
     "metadata": {},
     "output_type": "execute_result"
    }
   ],
   "source": [
    "a[2, 1] = 10\n",
    "a"
   ]
  },
  {
   "cell_type": "markdown",
   "id": "66584e81-2a46-4f7f-b585-fe51c889a920",
   "metadata": {},
   "source": [
    "### Slicing"
   ]
  },
  {
   "cell_type": "code",
   "execution_count": 44,
   "id": "6c066859-4d59-44fa-b312-ce2a2fdf7de8",
   "metadata": {},
   "outputs": [
    {
     "data": {
      "text/plain": [
       "array([0, 1, 2, 3, 4, 5, 6, 7, 8, 9])"
      ]
     },
     "execution_count": 44,
     "metadata": {},
     "output_type": "execute_result"
    }
   ],
   "source": [
    "a = np.arange(10)\n",
    "a"
   ]
  },
  {
   "cell_type": "code",
   "execution_count": 45,
   "id": "dd7a3d79-3b09-4d4d-8ce6-836018897423",
   "metadata": {},
   "outputs": [
    {
     "data": {
      "text/plain": [
       "array([2, 5, 8])"
      ]
     },
     "execution_count": 45,
     "metadata": {},
     "output_type": "execute_result"
    }
   ],
   "source": [
    "a[2:9:3] # inicio : fim (exclusivo) : passo"
   ]
  },
  {
   "cell_type": "markdown",
   "id": "e3bd1e50-42f2-4ada-b9d3-fece96de803f",
   "metadata": {},
   "source": [
    "* As with Python lists, the end is not included"
   ]
  },
  {
   "cell_type": "code",
   "execution_count": 46,
   "id": "7e9c9af8-256f-4cfb-80ac-758b4a5c9c79",
   "metadata": {},
   "outputs": [
    {
     "data": {
      "text/plain": [
       "array([0, 1, 2, 3])"
      ]
     },
     "execution_count": 46,
     "metadata": {},
     "output_type": "execute_result"
    }
   ],
   "source": [
    "a[:4]"
   ]
  },
  {
   "cell_type": "markdown",
   "id": "596107ef-bf00-4644-ac72-59bea35c0d4f",
   "metadata": {},
   "source": [
    "* None of the three slicing components (start, end, step) is mandatory.\n",
    "* If omitted:\n",
    "     * start = 0;\n",
    "     * end = last element;\n",
    "     * step = 1."
   ]
  },
  {
   "cell_type": "code",
   "execution_count": 47,
   "id": "17590296-5059-4a19-ad8a-836631607180",
   "metadata": {},
   "outputs": [
    {
     "data": {
      "text/plain": [
       "array([0, 1, 2, 3, 4, 5, 6, 7, 8, 9])"
      ]
     },
     "execution_count": 47,
     "metadata": {},
     "output_type": "execute_result"
    }
   ],
   "source": [
    "a"
   ]
  },
  {
   "cell_type": "code",
   "execution_count": 48,
   "id": "a4310a01-f9bb-46d0-8fc9-57910f1d3d79",
   "metadata": {},
   "outputs": [
    {
     "data": {
      "text/plain": [
       "array([1, 2])"
      ]
     },
     "execution_count": 48,
     "metadata": {},
     "output_type": "execute_result"
    }
   ],
   "source": [
    "a[1:3]"
   ]
  },
  {
   "cell_type": "code",
   "execution_count": 49,
   "id": "ca93972c-bf9f-4020-9b98-913c60de48b6",
   "metadata": {},
   "outputs": [
    {
     "data": {
      "text/plain": [
       "array([0, 2, 4, 6, 8])"
      ]
     },
     "execution_count": 49,
     "metadata": {},
     "output_type": "execute_result"
    }
   ],
   "source": [
    "a[::2]"
   ]
  },
  {
   "cell_type": "code",
   "execution_count": 50,
   "id": "d278d4b0-d0e4-41ed-95cf-24d709ffb949",
   "metadata": {},
   "outputs": [
    {
     "data": {
      "text/plain": [
       "array([3, 4, 5, 6, 7, 8, 9])"
      ]
     },
     "execution_count": 50,
     "metadata": {},
     "output_type": "execute_result"
    }
   ],
   "source": [
    "a[3:]"
   ]
  },
  {
   "cell_type": "markdown",
   "id": "ca357ead-b3d0-4823-8f31-e37147d7fd28",
   "metadata": {},
   "source": [
    "* Attribution with slicing"
   ]
  },
  {
   "cell_type": "code",
   "execution_count": 51,
   "id": "cf80188b-7f89-4925-b352-5bc40aa40bb5",
   "metadata": {},
   "outputs": [
    {
     "data": {
      "text/plain": [
       "array([ 0, 99, 99,  3,  4,  5,  6,  7,  8,  9])"
      ]
     },
     "execution_count": 51,
     "metadata": {},
     "output_type": "execute_result"
    }
   ],
   "source": [
    "a[1:3] = 99\n",
    "a"
   ]
  },
  {
   "cell_type": "code",
   "execution_count": 52,
   "id": "df276ff5-a5c1-4d0a-9808-a3c8b024dd84",
   "metadata": {},
   "outputs": [
    {
     "data": {
      "text/plain": [
       "array([ 0, 99, 99,  3,  4, 88, 99,  7,  8,  9])"
      ]
     },
     "execution_count": 52,
     "metadata": {},
     "output_type": "execute_result"
    }
   ],
   "source": [
    "a[5:7] = np.array([88, 99])\n",
    "a"
   ]
  },
  {
   "cell_type": "markdown",
   "id": "7a5ec07e-4625-4af1-8855-8866a47acdea",
   "metadata": {},
   "source": [
    "### Combining indexing and slicing"
   ]
  },
  {
   "cell_type": "code",
   "execution_count": 53,
   "id": "dd0a1862-ae27-4c28-b7cf-e7b65789c412",
   "metadata": {},
   "outputs": [
    {
     "data": {
      "text/plain": [
       "array([0, 1, 2, 3, 4, 5, 6, 7, 8, 9])"
      ]
     },
     "execution_count": 53,
     "metadata": {},
     "output_type": "execute_result"
    }
   ],
   "source": [
    "a = np.arange(10)\n",
    "a"
   ]
  },
  {
   "cell_type": "code",
   "execution_count": 54,
   "id": "ff234f7f-29e8-4d4e-b6f9-b0569f472822",
   "metadata": {},
   "outputs": [
    {
     "data": {
      "text/plain": [
       "array([ 0,  1,  2,  3,  4, 10, 10, 10, 10, 10])"
      ]
     },
     "execution_count": 54,
     "metadata": {},
     "output_type": "execute_result"
    }
   ],
   "source": [
    "a[5:] = 10\n",
    "a"
   ]
  },
  {
   "cell_type": "code",
   "execution_count": 55,
   "id": "acc42565-f9a1-427a-a735-32a732923662",
   "metadata": {},
   "outputs": [
    {
     "data": {
      "text/plain": [
       "array([0, 1, 2, 3, 4])"
      ]
     },
     "execution_count": 55,
     "metadata": {},
     "output_type": "execute_result"
    }
   ],
   "source": [
    "b = np.arange(5)\n",
    "b"
   ]
  },
  {
   "cell_type": "code",
   "execution_count": 56,
   "id": "45e1b346-6fc3-4c3c-b090-33fbaf85c3bf",
   "metadata": {},
   "outputs": [
    {
     "data": {
      "text/plain": [
       "array([0, 1, 2, 3, 4, 4, 3, 2, 1, 0])"
      ]
     },
     "execution_count": 56,
     "metadata": {},
     "output_type": "execute_result"
    }
   ],
   "source": [
    "a[5:] = b[::-1]\n",
    "a"
   ]
  },
  {
   "cell_type": "markdown",
   "id": "f7f5713e-fde6-4504-80ff-8cf8b42a43d5",
   "metadata": {},
   "source": [
    "### Illustration of indexing and slicing in NumPy arrays"
   ]
  },
  {
   "cell_type": "markdown",
   "id": "7328fffd-6ef8-499b-b415-179bd62a8a58",
   "metadata": {},
   "source": [
    "<img src='figures/slicing_numpy_example.png' style=\"height:300px\">\n",
    "<center>Fonte: [2].</center>"
   ]
  },
  {
   "cell_type": "code",
   "execution_count": 57,
   "id": "91c37e1f-db65-4fa2-b42b-179f4bb519ab",
   "metadata": {},
   "outputs": [
    {
     "data": {
      "text/plain": [
       "array([[ 0,  1,  2,  3,  4,  5],\n",
       "       [10, 11, 12, 13, 14, 15],\n",
       "       [20, 21, 22, 23, 24, 25],\n",
       "       [30, 31, 32, 33, 34, 35],\n",
       "       [40, 41, 42, 43, 44, 45],\n",
       "       [50, 51, 52, 53, 54, 55]])"
      ]
     },
     "execution_count": 57,
     "metadata": {},
     "output_type": "execute_result"
    }
   ],
   "source": [
    "a = np.arange(6) + np.arange(0, 51, 10)[:, np.newaxis]\n",
    "a"
   ]
  },
  {
   "cell_type": "code",
   "execution_count": 58,
   "id": "b6c63ad6-686c-4795-a98d-da8cf490d84e",
   "metadata": {},
   "outputs": [
    {
     "data": {
      "text/plain": [
       "array([3, 4])"
      ]
     },
     "execution_count": 58,
     "metadata": {},
     "output_type": "execute_result"
    }
   ],
   "source": [
    "# Orange\n",
    "a[0, 3:5] "
   ]
  },
  {
   "cell_type": "code",
   "execution_count": 59,
   "id": "4b70898d-b385-4d72-b6ac-088f2aa820eb",
   "metadata": {},
   "outputs": [
    {
     "data": {
      "text/plain": [
       "array([[44, 45],\n",
       "       [54, 55]])"
      ]
     },
     "execution_count": 59,
     "metadata": {},
     "output_type": "execute_result"
    }
   ],
   "source": [
    "# Dark green\n",
    "a[4:, 4:] "
   ]
  },
  {
   "cell_type": "code",
   "execution_count": 60,
   "id": "4f8ef5b0-940c-4de3-ae59-38e0dc941090",
   "metadata": {},
   "outputs": [
    {
     "data": {
      "text/plain": [
       "array([ 2, 12, 22, 32, 42, 52])"
      ]
     },
     "execution_count": 60,
     "metadata": {},
     "output_type": "execute_result"
    }
   ],
   "source": [
    "# Red\n",
    "a[:, 2] "
   ]
  },
  {
   "cell_type": "code",
   "execution_count": 61,
   "id": "7177f7ae-9af5-4669-b07c-70886e0f356b",
   "metadata": {},
   "outputs": [
    {
     "data": {
      "text/plain": [
       "array([[20, 22, 24],\n",
       "       [40, 42, 44]])"
      ]
     },
     "execution_count": 61,
     "metadata": {},
     "output_type": "execute_result"
    }
   ],
   "source": [
    "# Verde claro\n",
    "a[2::2, ::2] "
   ]
  },
  {
   "cell_type": "markdown",
   "id": "42685d41-aec4-457e-a7f5-c11084416d61",
   "metadata": {},
   "source": [
    "## Copies and views\n",
    "\n",
    "* When the view is modified, the original arrangement is also modified."
   ]
  },
  {
   "cell_type": "code",
   "execution_count": 62,
   "id": "890f39f6-a0ad-499e-bb11-67a3a4a4d585",
   "metadata": {},
   "outputs": [
    {
     "data": {
      "text/plain": [
       "array([0, 1, 2, 3, 4, 5, 6, 7, 8, 9])"
      ]
     },
     "execution_count": 62,
     "metadata": {},
     "output_type": "execute_result"
    }
   ],
   "source": [
    "a = np.arange(10)\n",
    "a"
   ]
  },
  {
   "cell_type": "code",
   "execution_count": 63,
   "id": "bb3a4180-e9ee-486d-b255-f97e79d5ed70",
   "metadata": {},
   "outputs": [
    {
     "data": {
      "text/plain": [
       "array([0, 2, 4, 6, 8])"
      ]
     },
     "execution_count": 63,
     "metadata": {},
     "output_type": "execute_result"
    }
   ],
   "source": [
    "b = a[::2]\n",
    "b"
   ]
  },
  {
   "cell_type": "code",
   "execution_count": 64,
   "id": "3ac78183-dec7-4f2b-a54b-bc66cc0e7676",
   "metadata": {},
   "outputs": [
    {
     "data": {
      "text/plain": [
       "True"
      ]
     },
     "execution_count": 64,
     "metadata": {},
     "output_type": "execute_result"
    }
   ],
   "source": [
    "np.may_share_memory(a, b)"
   ]
  },
  {
   "cell_type": "code",
   "execution_count": 65,
   "id": "aeb0f10d-9a82-4fc5-b443-593532373b0f",
   "metadata": {},
   "outputs": [
    {
     "data": {
      "text/plain": [
       "array([12,  2,  4,  6,  8])"
      ]
     },
     "execution_count": 65,
     "metadata": {},
     "output_type": "execute_result"
    }
   ],
   "source": [
    "b[0] = 12\n",
    "b"
   ]
  },
  {
   "cell_type": "code",
   "execution_count": 66,
   "id": "2b15443e-a3c8-4788-9f95-768bf1540130",
   "metadata": {},
   "outputs": [
    {
     "data": {
      "text/plain": [
       "array([12,  1,  2,  3,  4,  5,  6,  7,  8,  9])"
      ]
     },
     "execution_count": 66,
     "metadata": {},
     "output_type": "execute_result"
    }
   ],
   "source": [
    "a"
   ]
  },
  {
   "cell_type": "markdown",
   "id": "4a8d6960-45a1-4054-9463-d5c122dd6dc8",
   "metadata": {},
   "source": [
    "* Forcing copying of an arrangement."
   ]
  },
  {
   "cell_type": "code",
   "execution_count": 67,
   "id": "5a27bc22-6aa7-470b-9659-c706b785d5c7",
   "metadata": {},
   "outputs": [
    {
     "data": {
      "text/plain": [
       "array([0, 1, 2, 3, 4, 5, 6, 7, 8, 9])"
      ]
     },
     "execution_count": 67,
     "metadata": {},
     "output_type": "execute_result"
    }
   ],
   "source": [
    "a = np.arange(10)\n",
    "a"
   ]
  },
  {
   "cell_type": "code",
   "execution_count": 68,
   "id": "f0e97434-29ea-471b-8c8a-8b7b1c08909b",
   "metadata": {},
   "outputs": [
    {
     "data": {
      "text/plain": [
       "array([0, 2, 4, 6, 8])"
      ]
     },
     "execution_count": 68,
     "metadata": {},
     "output_type": "execute_result"
    }
   ],
   "source": [
    "c = a[::2].copy()  # Força a cópia\n",
    "c"
   ]
  },
  {
   "cell_type": "code",
   "execution_count": 69,
   "id": "5ad00ef4-8fcb-4f37-8eaa-75a76090efca",
   "metadata": {},
   "outputs": [
    {
     "data": {
      "text/plain": [
       "False"
      ]
     },
     "execution_count": 69,
     "metadata": {},
     "output_type": "execute_result"
    }
   ],
   "source": [
    "np.may_share_memory(a, c)"
   ]
  },
  {
   "cell_type": "code",
   "execution_count": 70,
   "id": "bf65019d-4d21-4446-a294-7690b162ad91",
   "metadata": {},
   "outputs": [
    {
     "data": {
      "text/plain": [
       "array([12,  2,  4,  6,  8])"
      ]
     },
     "execution_count": 70,
     "metadata": {},
     "output_type": "execute_result"
    }
   ],
   "source": [
    "c[0] = 12\n",
    "c"
   ]
  },
  {
   "cell_type": "code",
   "execution_count": 71,
   "id": "90171e57-c5ff-4733-9870-0aaa0730f37c",
   "metadata": {},
   "outputs": [
    {
     "data": {
      "text/plain": [
       "array([0, 1, 2, 3, 4, 5, 6, 7, 8, 9])"
      ]
     },
     "execution_count": 71,
     "metadata": {},
     "output_type": "execute_result"
    }
   ],
   "source": [
    "a"
   ]
  },
  {
   "cell_type": "markdown",
   "id": "0813b8b5-fdc4-45a6-9cc7-a72c11aa2dbd",
   "metadata": {},
   "source": [
    "* The use of views allows for memory savings and faster operations."
   ]
  },
  {
   "cell_type": "markdown",
   "id": "73dbaeb4-a50d-44d5-b2c2-e192d70af6e9",
   "metadata": {},
   "source": [
    "## Fancy indexing"
   ]
  },
  {
   "cell_type": "code",
   "execution_count": 72,
   "id": "7b928d58-0117-40fe-8455-6e63a499748a",
   "metadata": {},
   "outputs": [],
   "source": [
    "np.random.seed(3)"
   ]
  },
  {
   "cell_type": "code",
   "execution_count": 73,
   "id": "5d9ea02c-1cf9-41e4-a4e1-8add7e713e16",
   "metadata": {},
   "outputs": [
    {
     "data": {
      "text/plain": [
       "array([10,  3,  8,  0, 19, 10, 11,  9, 10,  6,  0, 20, 12,  7, 14])"
      ]
     },
     "execution_count": 73,
     "metadata": {},
     "output_type": "execute_result"
    }
   ],
   "source": [
    "a = np.random.randint(0, 21, 15)\n",
    "a"
   ]
  },
  {
   "cell_type": "code",
   "execution_count": 74,
   "id": "5d9d9e29-35aa-49af-820f-7e0c400ad853",
   "metadata": {},
   "outputs": [
    {
     "data": {
      "text/plain": [
       "array([False,  True, False,  True, False, False, False,  True, False,\n",
       "        True,  True, False,  True, False, False])"
      ]
     },
     "execution_count": 74,
     "metadata": {},
     "output_type": "execute_result"
    }
   ],
   "source": [
    "(a % 3) == 0 # True: multiples of 3;"
   ]
  },
  {
   "cell_type": "code",
   "execution_count": 75,
   "id": "bb30425b-1c7a-4871-80a4-ff49eaf7401a",
   "metadata": {},
   "outputs": [
    {
     "data": {
      "text/plain": [
       "array([ 3,  0,  9,  6,  0, 12])"
      ]
     },
     "execution_count": 75,
     "metadata": {},
     "output_type": "execute_result"
    }
   ],
   "source": [
    "mascara = (a % 3 == 0)\n",
    "extract_from_a = a[mascara]  # Or:  a[a%3==0]\n",
    "extract_from_a"
   ]
  },
  {
   "cell_type": "code",
   "execution_count": 76,
   "id": "162ab391-0d0c-47fa-8e65-d3490c528700",
   "metadata": {},
   "outputs": [
    {
     "data": {
      "text/plain": [
       "array([False, False, False, False,  True, False,  True, False, False,\n",
       "       False, False,  True,  True, False,  True])"
      ]
     },
     "execution_count": 76,
     "metadata": {},
     "output_type": "execute_result"
    }
   ],
   "source": [
    "mascara = a > 10\n",
    "mascara"
   ]
  },
  {
   "cell_type": "code",
   "execution_count": 77,
   "id": "5ad33122-5876-42a6-9c43-520e1bf720b6",
   "metadata": {},
   "outputs": [
    {
     "data": {
      "text/plain": [
       "array([19, 11, 20, 12, 14])"
      ]
     },
     "execution_count": 77,
     "metadata": {},
     "output_type": "execute_result"
    }
   ],
   "source": [
    "a_10 = a[mascara]\n",
    "a_10"
   ]
  },
  {
   "cell_type": "markdown",
   "id": "18975795-02af-4666-9a92-2632159255a2",
   "metadata": {},
   "source": [
    "### Mask indexing for assigning values"
   ]
  },
  {
   "cell_type": "code",
   "execution_count": 78,
   "id": "fc7fdde2-cbe4-4e22-b24f-e6581ae5f8c7",
   "metadata": {},
   "outputs": [
    {
     "data": {
      "text/plain": [
       "array([10,  3,  8,  0, 19, 10, 11,  9, 10,  6,  0, 20, 12,  7, 14])"
      ]
     },
     "execution_count": 78,
     "metadata": {},
     "output_type": "execute_result"
    }
   ],
   "source": [
    "a"
   ]
  },
  {
   "cell_type": "code",
   "execution_count": 79,
   "id": "0a22824d-617c-4d55-9251-7dd57856d350",
   "metadata": {},
   "outputs": [
    {
     "data": {
      "text/plain": [
       "array([10, -1,  8, -1, 19, 10, 11, -1, 10, -1, -1, 20, -1,  7, 14])"
      ]
     },
     "execution_count": 79,
     "metadata": {},
     "output_type": "execute_result"
    }
   ],
   "source": [
    "a[a % 3 == 0] = -1\n",
    "a"
   ]
  },
  {
   "cell_type": "markdown",
   "id": "3975659f-f4a3-4c95-96b3-e41e5f1d5291",
   "metadata": {},
   "source": [
    "### Indexing with integer arrays"
   ]
  },
  {
   "cell_type": "code",
   "execution_count": 172,
   "id": "68c6235c-19b9-496a-9c93-d94c33239021",
   "metadata": {},
   "outputs": [
    {
     "data": {
      "text/plain": [
       "array([ 0, 10, 20, 30, 40, 50, 60, 70, 80, 90])"
      ]
     },
     "execution_count": 172,
     "metadata": {},
     "output_type": "execute_result"
    }
   ],
   "source": [
    "a = np.arange(0, 100, 10)  # De 0 até 100 (exclusivo), de 10 em 10.\n",
    "a"
   ]
  },
  {
   "cell_type": "code",
   "execution_count": 81,
   "id": "121e7361-8d52-48de-aede-542863eb9da4",
   "metadata": {},
   "outputs": [
    {
     "data": {
      "text/plain": [
       "array([20, 60, 30, 90])"
      ]
     },
     "execution_count": 81,
     "metadata": {},
     "output_type": "execute_result"
    }
   ],
   "source": [
    "lista_indices = [2, 6, 3, 9]\n",
    "a[lista_indices]"
   ]
  },
  {
   "cell_type": "markdown",
   "id": "22a0b3d0-de9a-4dab-a95f-967217f43e87",
   "metadata": {},
   "source": [
    "* Or directly:"
   ]
  },
  {
   "cell_type": "code",
   "execution_count": 82,
   "id": "f77f4b95-03d4-4c1b-9eb8-03cb7ea3c060",
   "metadata": {},
   "outputs": [
    {
     "data": {
      "text/plain": [
       "array([20, 60, 30, 90])"
      ]
     },
     "execution_count": 82,
     "metadata": {},
     "output_type": "execute_result"
    }
   ],
   "source": [
    "a[[2, 6, 3, 9]]"
   ]
  },
  {
   "cell_type": "markdown",
   "id": "618eb17c-e3bf-4407-8492-bbf33e65088b",
   "metadata": {},
   "source": [
    "* It is possible to repeat some index."
   ]
  },
  {
   "cell_type": "code",
   "execution_count": 83,
   "id": "c433f2f7-0859-44ae-a2cd-8e39ba9744ac",
   "metadata": {},
   "outputs": [
    {
     "data": {
      "text/plain": [
       "array([20, 60, 30, 20, 90, 30])"
      ]
     },
     "execution_count": 83,
     "metadata": {},
     "output_type": "execute_result"
    }
   ],
   "source": [
    "a[[2, 6, 3, 2, 9, 3]]"
   ]
  },
  {
   "cell_type": "markdown",
   "id": "67e33681-6ce8-415e-b979-b156ef7dac6e",
   "metadata": {},
   "source": [
    "* It is also possible to assign values."
   ]
  },
  {
   "cell_type": "code",
   "execution_count": 84,
   "id": "fced275f-190d-4218-b39f-8de17bfc8edc",
   "metadata": {},
   "outputs": [
    {
     "data": {
      "text/plain": [
       "array([   0,   10,   20,   30,   40,   50,   60, -100,   80, -100])"
      ]
     },
     "execution_count": 84,
     "metadata": {},
     "output_type": "execute_result"
    }
   ],
   "source": [
    "a[[9, 7]] = -100\n",
    "a"
   ]
  },
  {
   "cell_type": "markdown",
   "id": "a5dc4470-4c5b-40fd-8239-76e4a36f150e",
   "metadata": {},
   "source": [
    "* The result of indexing by integer arrays has the format of the index array."
   ]
  },
  {
   "cell_type": "code",
   "execution_count": 85,
   "id": "27924985-4e83-4f3d-95b5-d1b9b9cc87e1",
   "metadata": {},
   "outputs": [
    {
     "data": {
      "text/plain": [
       "array([ 0, 10, 20, 30, 40, 50, 60, 70, 80, 90])"
      ]
     },
     "execution_count": 85,
     "metadata": {},
     "output_type": "execute_result"
    }
   ],
   "source": [
    "a = np.arange(10) * 10\n",
    "a"
   ]
  },
  {
   "cell_type": "code",
   "execution_count": 86,
   "id": "868cb4c5-95e8-4bcd-b51a-b8c629842b4d",
   "metadata": {},
   "outputs": [
    {
     "data": {
      "text/plain": [
       "(10,)"
      ]
     },
     "execution_count": 86,
     "metadata": {},
     "output_type": "execute_result"
    }
   ],
   "source": [
    "a.shape"
   ]
  },
  {
   "cell_type": "code",
   "execution_count": 87,
   "id": "a867aa57-f593-43f5-a386-28c6eb8140d8",
   "metadata": {},
   "outputs": [
    {
     "data": {
      "text/plain": [
       "array([[3, 4],\n",
       "       [9, 7]])"
      ]
     },
     "execution_count": 87,
     "metadata": {},
     "output_type": "execute_result"
    }
   ],
   "source": [
    "indices = np.array([[3, 4], [9, 7]])\n",
    "indices"
   ]
  },
  {
   "cell_type": "code",
   "execution_count": 88,
   "id": "8a996e8d-5a98-43da-a04c-e4b6b200483e",
   "metadata": {},
   "outputs": [
    {
     "data": {
      "text/plain": [
       "(2, 2)"
      ]
     },
     "execution_count": 88,
     "metadata": {},
     "output_type": "execute_result"
    }
   ],
   "source": [
    "indices.shape"
   ]
  },
  {
   "cell_type": "code",
   "execution_count": 89,
   "id": "44c52712-2e62-4978-8691-07a69858868b",
   "metadata": {},
   "outputs": [
    {
     "data": {
      "text/plain": [
       "array([[30, 40],\n",
       "       [90, 70]])"
      ]
     },
     "execution_count": 89,
     "metadata": {},
     "output_type": "execute_result"
    }
   ],
   "source": [
    "a[indices]"
   ]
  },
  {
   "cell_type": "markdown",
   "id": "54c0af0b-7c06-4f7a-8e8a-9db1cb05b8dd",
   "metadata": {},
   "source": [
    "### Illustration of several fancy indexing examples"
   ]
  },
  {
   "cell_type": "markdown",
   "id": "afd305fb-7cb5-46a0-91b1-5db0c026d5ca",
   "metadata": {},
   "source": [
    "<img src='figures/fancy_example.png' style=\"height:300px\">\n",
    "<center>Fonte: [2].</center>"
   ]
  },
  {
   "cell_type": "code",
   "execution_count": 90,
   "id": "26381386-39ce-48e9-b366-1493c74869e9",
   "metadata": {},
   "outputs": [
    {
     "data": {
      "text/plain": [
       "array([[ 0,  1,  2,  3,  4,  5],\n",
       "       [10, 11, 12, 13, 14, 15],\n",
       "       [20, 21, 22, 23, 24, 25],\n",
       "       [30, 31, 32, 33, 34, 35],\n",
       "       [40, 41, 42, 43, 44, 45],\n",
       "       [50, 51, 52, 53, 54, 55]])"
      ]
     },
     "execution_count": 90,
     "metadata": {},
     "output_type": "execute_result"
    }
   ],
   "source": [
    "a = np.arange(6) + np.arange(0, 51, 10)[:, np.newaxis]\n",
    "a"
   ]
  },
  {
   "cell_type": "code",
   "execution_count": 91,
   "id": "5f189f3b-a16e-4017-94e2-06322b788bb4",
   "metadata": {},
   "outputs": [
    {
     "data": {
      "text/plain": [
       "array([ 1, 12, 23, 34, 45])"
      ]
     },
     "execution_count": 91,
     "metadata": {},
     "output_type": "execute_result"
    }
   ],
   "source": [
    "a[(0, 1, 2, 3, 4), (1, 2, 3, 4, 5)] # orange"
   ]
  },
  {
   "cell_type": "code",
   "execution_count": 92,
   "id": "ba564529-a604-4d18-b3a2-9f2511cf5f04",
   "metadata": {},
   "outputs": [
    {
     "data": {
      "text/plain": [
       "array([[30, 32, 35],\n",
       "       [40, 42, 45],\n",
       "       [50, 52, 55]])"
      ]
     },
     "execution_count": 92,
     "metadata": {},
     "output_type": "execute_result"
    }
   ],
   "source": [
    "a[3:, [0, 2, 5]] # blue "
   ]
  },
  {
   "cell_type": "code",
   "execution_count": 93,
   "id": "ccc478a2-be7a-4ca8-a99c-747f4b70619a",
   "metadata": {},
   "outputs": [
    {
     "data": {
      "text/plain": [
       "array([ 2, 22, 52])"
      ]
     },
     "execution_count": 93,
     "metadata": {},
     "output_type": "execute_result"
    }
   ],
   "source": [
    "mascara = np.array([1, 0, 1, 0, 0, 1], dtype=bool)\n",
    "a[mascara, 2] # red"
   ]
  },
  {
   "cell_type": "markdown",
   "id": "8a5d162d-7b89-4b8c-8e10-d3a5ca232e76",
   "metadata": {},
   "source": [
    "## Numerical operations with arrays\n",
    "---"
   ]
  },
  {
   "cell_type": "markdown",
   "id": "5ff1296e-6c29-446c-a93b-b017863a75f3",
   "metadata": {},
   "source": [
    "### Basic operations"
   ]
  },
  {
   "cell_type": "markdown",
   "id": "2fd88a89-d0af-4397-b3b0-bb91960ed43f",
   "metadata": {},
   "source": [
    "* With scalars."
   ]
  },
  {
   "cell_type": "code",
   "execution_count": 94,
   "id": "c3aa36f7-f70b-4f5f-b57e-604e1e754150",
   "metadata": {},
   "outputs": [
    {
     "data": {
      "text/plain": [
       "array([2, 3, 4, 5])"
      ]
     },
     "execution_count": 94,
     "metadata": {},
     "output_type": "execute_result"
    }
   ],
   "source": [
    "a = np.array([1, 2, 3, 4])\n",
    "a + 1"
   ]
  },
  {
   "cell_type": "code",
   "execution_count": 95,
   "id": "2a995862-44ef-47cc-b9c1-8b8a6722a6e3",
   "metadata": {},
   "outputs": [
    {
     "data": {
      "text/plain": [
       "array([1, 2, 3, 4])"
      ]
     },
     "execution_count": 95,
     "metadata": {},
     "output_type": "execute_result"
    }
   ],
   "source": [
    "a"
   ]
  },
  {
   "cell_type": "code",
   "execution_count": 96,
   "id": "252d1481-2d78-48b4-8cde-b67f4ba4f76e",
   "metadata": {},
   "outputs": [
    {
     "data": {
      "text/plain": [
       "array([ 2,  4,  8, 16], dtype=int32)"
      ]
     },
     "execution_count": 96,
     "metadata": {},
     "output_type": "execute_result"
    }
   ],
   "source": [
    "b = 2 ** a\n",
    "b"
   ]
  },
  {
   "cell_type": "markdown",
   "id": "0ead9321-d5f8-4652-a0b9-50b059950c15",
   "metadata": {},
   "source": [
    "* With arrays."
   ]
  },
  {
   "cell_type": "code",
   "execution_count": 97,
   "id": "58f72ae3-2ab8-4b74-a1c9-46d3a0b3ed73",
   "metadata": {},
   "outputs": [
    {
     "data": {
      "text/plain": [
       "array([2., 2., 2., 2.])"
      ]
     },
     "execution_count": 97,
     "metadata": {},
     "output_type": "execute_result"
    }
   ],
   "source": [
    "b = np.ones(4) + 1\n",
    "b"
   ]
  },
  {
   "cell_type": "code",
   "execution_count": 98,
   "id": "cf6bd274-928f-455b-b4ed-269eab60271e",
   "metadata": {},
   "outputs": [
    {
     "data": {
      "text/plain": [
       "array([1, 2, 3, 4])"
      ]
     },
     "execution_count": 98,
     "metadata": {},
     "output_type": "execute_result"
    }
   ],
   "source": [
    "a"
   ]
  },
  {
   "cell_type": "code",
   "execution_count": 99,
   "id": "8c396266-3107-4d82-8af5-8bd99cb6e0ea",
   "metadata": {},
   "outputs": [
    {
     "data": {
      "text/plain": [
       "array([-1.,  0.,  1.,  2.])"
      ]
     },
     "execution_count": 99,
     "metadata": {},
     "output_type": "execute_result"
    }
   ],
   "source": [
    "a - b"
   ]
  },
  {
   "cell_type": "code",
   "execution_count": 100,
   "id": "f677cbe0-8eca-4fc5-ac5f-e5678cc6f352",
   "metadata": {},
   "outputs": [
    {
     "data": {
      "text/plain": [
       "array([2., 4., 6., 8.])"
      ]
     },
     "execution_count": 100,
     "metadata": {},
     "output_type": "execute_result"
    }
   ],
   "source": [
    "a * b # Note: it is not a scalar product."
   ]
  },
  {
   "cell_type": "markdown",
   "id": "c253e41c-0fa4-4c95-b751-6fe7295d82e8",
   "metadata": {},
   "source": [
    "* These operations are much faster than when implemented in pure Python."
   ]
  },
  {
   "cell_type": "code",
   "execution_count": 101,
   "id": "889e79c6-ba45-4185-bed1-b9f4a787a554",
   "metadata": {},
   "outputs": [
    {
     "name": "stdout",
     "output_type": "stream",
     "text": [
      "32.8 µs ± 8.65 µs per loop (mean ± std. dev. of 7 runs, 10,000 loops each)\n"
     ]
    }
   ],
   "source": [
    "a = np.arange(10000)\n",
    "%timeit a + 1"
   ]
  },
  {
   "cell_type": "code",
   "execution_count": 102,
   "id": "19605afd-57a3-4c68-89d9-1eafd595990e",
   "metadata": {},
   "outputs": [
    {
     "name": "stdout",
     "output_type": "stream",
     "text": [
      "2.62 ms ± 895 µs per loop (mean ± std. dev. of 7 runs, 100 loops each)\n"
     ]
    }
   ],
   "source": [
    "l = range(10000)\n",
    "%timeit [i+1 for i in l]"
   ]
  },
  {
   "cell_type": "markdown",
   "id": "bf962194-021c-43ab-9751-2bf4ab820988",
   "metadata": {},
   "source": [
    "* Note: Array multiplication is not matrices multiplication"
   ]
  },
  {
   "cell_type": "code",
   "execution_count": 103,
   "id": "4804ae01-e7da-41d3-87a6-ec1a72689b97",
   "metadata": {},
   "outputs": [
    {
     "data": {
      "text/plain": [
       "array([[1., 1., 1.],\n",
       "       [1., 1., 1.],\n",
       "       [1., 1., 1.]])"
      ]
     },
     "execution_count": 103,
     "metadata": {},
     "output_type": "execute_result"
    }
   ],
   "source": [
    "c = np.ones((3, 3))\n",
    "c"
   ]
  },
  {
   "cell_type": "code",
   "execution_count": 104,
   "id": "4017efce-4948-4b60-a170-db3a6a03564b",
   "metadata": {},
   "outputs": [
    {
     "data": {
      "text/plain": [
       "array([[1., 1., 1.],\n",
       "       [1., 1., 1.],\n",
       "       [1., 1., 1.]])"
      ]
     },
     "execution_count": 104,
     "metadata": {},
     "output_type": "execute_result"
    }
   ],
   "source": [
    "c * c"
   ]
  },
  {
   "cell_type": "markdown",
   "id": "d8851474-b57f-418f-9a6c-68f62751a790",
   "metadata": {},
   "source": [
    "* For matrix multiplication:"
   ]
  },
  {
   "cell_type": "code",
   "execution_count": 105,
   "id": "cd5a4be0-6992-4a66-8729-5f9544b90a5f",
   "metadata": {},
   "outputs": [
    {
     "data": {
      "text/plain": [
       "array([[3., 3., 3.],\n",
       "       [3., 3., 3.],\n",
       "       [3., 3., 3.]])"
      ]
     },
     "execution_count": 105,
     "metadata": {},
     "output_type": "execute_result"
    }
   ],
   "source": [
    "c.dot(c)"
   ]
  },
  {
   "cell_type": "markdown",
   "id": "1aecd2a5-cb99-4c46-ac27-9414fe2f97e8",
   "metadata": {},
   "source": [
    "### Comparing arrays"
   ]
  },
  {
   "cell_type": "code",
   "execution_count": 106,
   "id": "27b53077-6989-4cf1-a83f-806f1b9591ba",
   "metadata": {},
   "outputs": [
    {
     "data": {
      "text/plain": [
       "array([False,  True, False,  True])"
      ]
     },
     "execution_count": 106,
     "metadata": {},
     "output_type": "execute_result"
    }
   ],
   "source": [
    "a = np.array([1, 2, 3, 4])\n",
    "b = np.array([4, 2, 2, 4])\n",
    "a == b"
   ]
  },
  {
   "cell_type": "code",
   "execution_count": 107,
   "id": "bfd0ca43-3678-4e93-9d53-1303f3460a5a",
   "metadata": {},
   "outputs": [
    {
     "data": {
      "text/plain": [
       "array([False, False,  True, False])"
      ]
     },
     "execution_count": 107,
     "metadata": {},
     "output_type": "execute_result"
    }
   ],
   "source": [
    "a > b"
   ]
  },
  {
   "cell_type": "markdown",
   "id": "ebee6fa1-0243-449c-8c60-c7cac1af17aa",
   "metadata": {},
   "source": [
    "* Comparing the entire array."
   ]
  },
  {
   "cell_type": "code",
   "execution_count": 108,
   "id": "4d70d366-61f5-4c79-8e32-cad299c6306a",
   "metadata": {},
   "outputs": [
    {
     "data": {
      "text/plain": [
       "True"
      ]
     },
     "execution_count": 108,
     "metadata": {},
     "output_type": "execute_result"
    }
   ],
   "source": [
    "c = np.array([1, 2, 3, 4])\n",
    "np.array_equal(a, c)"
   ]
  },
  {
   "cell_type": "code",
   "execution_count": 109,
   "id": "e707e76d-4901-4737-9af3-3668602b8903",
   "metadata": {},
   "outputs": [
    {
     "data": {
      "text/plain": [
       "False"
      ]
     },
     "execution_count": 109,
     "metadata": {},
     "output_type": "execute_result"
    }
   ],
   "source": [
    "np.array_equal(a, b)"
   ]
  },
  {
   "cell_type": "markdown",
   "id": "77b8e56d-7574-4496-a1d6-2652ccc61708",
   "metadata": {},
   "source": [
    "### Logical operations"
   ]
  },
  {
   "cell_type": "code",
   "execution_count": 110,
   "id": "ece3a5f0-8155-45e9-822e-56fdd33688ee",
   "metadata": {},
   "outputs": [
    {
     "data": {
      "text/plain": [
       "array([ True,  True,  True, False])"
      ]
     },
     "execution_count": 110,
     "metadata": {},
     "output_type": "execute_result"
    }
   ],
   "source": [
    "a = np.array([1, 1, 0, 0], dtype=bool)\n",
    "b = np.array([1, 0, 1, 0], dtype=bool)\n",
    "np.logical_or(a, b)"
   ]
  },
  {
   "cell_type": "code",
   "execution_count": 111,
   "id": "765cdd0a-d48a-44a2-842e-00fbd2089f39",
   "metadata": {},
   "outputs": [
    {
     "data": {
      "text/plain": [
       "array([ True, False, False, False])"
      ]
     },
     "execution_count": 111,
     "metadata": {},
     "output_type": "execute_result"
    }
   ],
   "source": [
    "np.logical_and(a, b)"
   ]
  },
  {
   "cell_type": "markdown",
   "id": "da919e8c-491d-46e5-99df-d27c5f465d09",
   "metadata": {},
   "source": [
    "### Transcendental functions"
   ]
  },
  {
   "cell_type": "code",
   "execution_count": 112,
   "id": "497e6caa-5f17-4a15-a592-9fe75be544cb",
   "metadata": {},
   "outputs": [
    {
     "data": {
      "text/plain": [
       "array([ 0,  1,  2,  3,  4,  5,  6,  7,  8,  9, 10, 11, 12, 13, 14, 15, 16,\n",
       "       17, 18, 19, 20, 21, 22, 23, 24, 25, 26, 27, 28, 29, 30, 31, 32, 33,\n",
       "       34, 35, 36, 37, 38, 39])"
      ]
     },
     "execution_count": 112,
     "metadata": {},
     "output_type": "execute_result"
    }
   ],
   "source": [
    "a = np.arange(40)\n",
    "a"
   ]
  },
  {
   "cell_type": "code",
   "execution_count": 113,
   "id": "8f641b89-0ff6-457c-bdbd-42ff265dae71",
   "metadata": {},
   "outputs": [
    {
     "data": {
      "text/plain": [
       "array([ 0.        ,  0.84147098,  0.90929743,  0.14112001, -0.7568025 ,\n",
       "       -0.95892427, -0.2794155 ,  0.6569866 ,  0.98935825,  0.41211849,\n",
       "       -0.54402111, -0.99999021, -0.53657292,  0.42016704,  0.99060736,\n",
       "        0.65028784, -0.28790332, -0.96139749, -0.75098725,  0.14987721,\n",
       "        0.91294525,  0.83665564, -0.00885131, -0.8462204 , -0.90557836,\n",
       "       -0.13235175,  0.76255845,  0.95637593,  0.27090579, -0.66363388,\n",
       "       -0.98803162, -0.40403765,  0.55142668,  0.99991186,  0.52908269,\n",
       "       -0.42818267, -0.99177885, -0.64353813,  0.29636858,  0.96379539])"
      ]
     },
     "execution_count": 113,
     "metadata": {},
     "output_type": "execute_result"
    }
   ],
   "source": [
    "sin_a = np.sin(a)\n",
    "sin_a"
   ]
  },
  {
   "cell_type": "code",
   "execution_count": 114,
   "id": "5e9477c0-cee6-4061-ad43-1566d7e219b5",
   "metadata": {},
   "outputs": [
    {
     "data": {
      "text/plain": [
       "array([ 1.        ,  0.54030231, -0.41614684, -0.9899925 , -0.65364362,\n",
       "        0.28366219,  0.96017029,  0.75390225, -0.14550003, -0.91113026,\n",
       "       -0.83907153,  0.0044257 ,  0.84385396,  0.90744678,  0.13673722,\n",
       "       -0.75968791, -0.95765948, -0.27516334,  0.66031671,  0.98870462,\n",
       "        0.40808206, -0.54772926, -0.99996083, -0.53283302,  0.42417901,\n",
       "        0.99120281,  0.64691932, -0.29213881, -0.96260587, -0.74805753,\n",
       "        0.15425145,  0.91474236,  0.83422336, -0.01327675, -0.84857027,\n",
       "       -0.90369221, -0.12796369,  0.76541405,  0.95507364,  0.26664293])"
      ]
     },
     "execution_count": 114,
     "metadata": {},
     "output_type": "execute_result"
    }
   ],
   "source": [
    "cos_a = np.cos(a)\n",
    "cos_a"
   ]
  },
  {
   "cell_type": "code",
   "execution_count": 115,
   "id": "6ac2bcc0-b199-4ff1-9aeb-d1cde434aa76",
   "metadata": {},
   "outputs": [
    {
     "name": "stderr",
     "output_type": "stream",
     "text": [
      "C:\\Users\\joaof\\AppData\\Local\\Temp\\ipykernel_11604\\3627395186.py:1: RuntimeWarning: divide by zero encountered in log\n",
      "  log_a = np.log(a)\n"
     ]
    },
    {
     "data": {
      "text/plain": [
       "array([      -inf, 0.        , 0.69314718, 1.09861229, 1.38629436,\n",
       "       1.60943791, 1.79175947, 1.94591015, 2.07944154, 2.19722458,\n",
       "       2.30258509, 2.39789527, 2.48490665, 2.56494936, 2.63905733,\n",
       "       2.7080502 , 2.77258872, 2.83321334, 2.89037176, 2.94443898,\n",
       "       2.99573227, 3.04452244, 3.09104245, 3.13549422, 3.17805383,\n",
       "       3.21887582, 3.25809654, 3.29583687, 3.33220451, 3.36729583,\n",
       "       3.40119738, 3.4339872 , 3.4657359 , 3.49650756, 3.52636052,\n",
       "       3.55534806, 3.58351894, 3.61091791, 3.63758616, 3.66356165])"
      ]
     },
     "execution_count": 115,
     "metadata": {},
     "output_type": "execute_result"
    }
   ],
   "source": [
    "log_a = np.log(a)\n",
    "log_a"
   ]
  },
  {
   "cell_type": "code",
   "execution_count": 116,
   "id": "52184e9f-bf55-4609-877b-b2fb4e7499e2",
   "metadata": {},
   "outputs": [
    {
     "data": {
      "text/plain": [
       "[<matplotlib.lines.Line2D at 0x2dfc17f0190>]"
      ]
     },
     "execution_count": 116,
     "metadata": {},
     "output_type": "execute_result"
    },
    {
     "data": {
      "image/png": "[encoded data removed]",
      "text/plain": [
       "<Figure size 640x480 with 1 Axes>"
      ]
     },
     "metadata": {},
     "output_type": "display_data"
    }
   ],
   "source": [
    "plt.plot(a, sin_a)\n",
    "plt.plot(a, cos_a)\n",
    "plt.plot(a, log_a)"
   ]
  },
  {
   "cell_type": "markdown",
   "id": "c91756f7-ed71-47ca-b2ac-f712b21d747c",
   "metadata": {},
   "source": [
    "* Matrix transposition"
   ]
  },
  {
   "cell_type": "code",
   "execution_count": 117,
   "id": "075b7991-a7f3-444e-8270-2ed72d81a6fa",
   "metadata": {},
   "outputs": [
    {
     "data": {
      "text/plain": [
       "array([[0., 1., 1.],\n",
       "       [0., 0., 1.],\n",
       "       [0., 0., 0.]])"
      ]
     },
     "execution_count": 117,
     "metadata": {},
     "output_type": "execute_result"
    }
   ],
   "source": [
    "# Creates an array. \"triu\" only keeps the upper diagonal of the matrix.\n",
    "a = np.triu(np.ones((3,3)), 1) \n",
    "a"
   ]
  },
  {
   "cell_type": "code",
   "execution_count": 118,
   "id": "d9dc3ed0-62f3-4843-91b7-b4cb70490059",
   "metadata": {},
   "outputs": [],
   "source": [
    "b = a.T # Transposition of a."
   ]
  },
  {
   "cell_type": "markdown",
   "id": "20a67c37-ca23-4645-9f2a-763753cc0bb7",
   "metadata": {},
   "source": [
    "* Note: The result of the transposition is a vision."
   ]
  },
  {
   "cell_type": "code",
   "execution_count": 119,
   "id": "f320af41-54e8-4638-9d5f-ddacba2a2f42",
   "metadata": {},
   "outputs": [
    {
     "data": {
      "text/plain": [
       "True"
      ]
     },
     "execution_count": 119,
     "metadata": {},
     "output_type": "execute_result"
    }
   ],
   "source": [
    "np.may_share_memory(a, b)"
   ]
  },
  {
   "cell_type": "markdown",
   "id": "c2cc5be4-96da-4f61-aa74-004c486a577a",
   "metadata": {},
   "source": [
    "## Reductions\n",
    "---"
   ]
  },
  {
   "cell_type": "markdown",
   "id": "9b8faf7d-92f9-49b5-9d63-ee5bba199417",
   "metadata": {},
   "source": [
    "<img src='figures/axis.png' style=\"height:300px\">\n",
    "<center>Fonte: [2].</center>"
   ]
  },
  {
   "cell_type": "markdown",
   "id": "0244a26d-0258-44fd-b73a-002f9223a814",
   "metadata": {},
   "source": [
    "### Sum"
   ]
  },
  {
   "cell_type": "code",
   "execution_count": 120,
   "id": "965269b8-63e6-4ddf-af20-47732c1045a4",
   "metadata": {},
   "outputs": [
    {
     "data": {
      "text/plain": [
       "array([1, 2, 3, 4])"
      ]
     },
     "execution_count": 120,
     "metadata": {},
     "output_type": "execute_result"
    }
   ],
   "source": [
    "a = np.array([1, 2, 3, 4])\n",
    "a"
   ]
  },
  {
   "cell_type": "code",
   "execution_count": 121,
   "id": "1bf65e9a-eb64-46b1-81ca-a61e493ad9ec",
   "metadata": {},
   "outputs": [
    {
     "data": {
      "text/plain": [
       "10"
      ]
     },
     "execution_count": 121,
     "metadata": {},
     "output_type": "execute_result"
    }
   ],
   "source": [
    "a.sum()"
   ]
  },
  {
   "cell_type": "code",
   "execution_count": 122,
   "id": "bdaf2a8d-0509-4eab-a44d-2ef92d0a37e7",
   "metadata": {},
   "outputs": [
    {
     "data": {
      "text/plain": [
       "10"
      ]
     },
     "execution_count": 122,
     "metadata": {},
     "output_type": "execute_result"
    }
   ],
   "source": [
    "np.sum(a)"
   ]
  },
  {
   "cell_type": "markdown",
   "id": "3cfa12e1-4bf9-4471-8cc0-7f770dbefaa1",
   "metadata": {},
   "source": [
    "* Sum of rows and columns"
   ]
  },
  {
   "cell_type": "code",
   "execution_count": 123,
   "id": "31afa84d-7a6c-4356-95dd-81c15d2a6378",
   "metadata": {},
   "outputs": [
    {
     "data": {
      "text/plain": [
       "array([[1, 1],\n",
       "       [2, 2]])"
      ]
     },
     "execution_count": 123,
     "metadata": {},
     "output_type": "execute_result"
    }
   ],
   "source": [
    "x = np.array([[1, 1],\n",
    "              [2, 2]])\n",
    "x"
   ]
  },
  {
   "cell_type": "code",
   "execution_count": 124,
   "id": "db0a4a13-dfe1-4e6d-9bd3-68c14a7e9e83",
   "metadata": {},
   "outputs": [
    {
     "data": {
      "text/plain": [
       "6"
      ]
     },
     "execution_count": 124,
     "metadata": {},
     "output_type": "execute_result"
    }
   ],
   "source": [
    "x.sum()"
   ]
  },
  {
   "cell_type": "code",
   "execution_count": 125,
   "id": "66a7bc66-bc62-4f01-bd7e-3a8f1639d4e6",
   "metadata": {},
   "outputs": [
    {
     "data": {
      "text/plain": [
       "array([3, 3])"
      ]
     },
     "execution_count": 125,
     "metadata": {},
     "output_type": "execute_result"
    }
   ],
   "source": [
    "x.sum(axis=0) # lines (first dimension)"
   ]
  },
  {
   "cell_type": "code",
   "execution_count": 126,
   "id": "7ca1ba03-d529-4ee9-ad82-2c8f9fd7551e",
   "metadata": {},
   "outputs": [
    {
     "data": {
      "text/plain": [
       "array([2, 4])"
      ]
     },
     "execution_count": 126,
     "metadata": {},
     "output_type": "execute_result"
    }
   ],
   "source": [
    "x.sum(axis=1) # columns (second dimension)"
   ]
  },
  {
   "cell_type": "markdown",
   "id": "e981c710-70b0-46ad-9546-06c83f560a18",
   "metadata": {},
   "source": [
    "* Other reductions work the same way."
   ]
  },
  {
   "cell_type": "markdown",
   "id": "ecdc8987-5088-44f2-990a-3db73dcc6e08",
   "metadata": {},
   "source": [
    "### Extremes"
   ]
  },
  {
   "cell_type": "code",
   "execution_count": 127,
   "id": "8953ecb1-e6b6-4231-bcd8-9d8cb933b38e",
   "metadata": {},
   "outputs": [
    {
     "data": {
      "text/plain": [
       "1"
      ]
     },
     "execution_count": 127,
     "metadata": {},
     "output_type": "execute_result"
    }
   ],
   "source": [
    "x = np.array([2, 5, 1, 3])\n",
    "x.min()"
   ]
  },
  {
   "cell_type": "code",
   "execution_count": 128,
   "id": "46e5feb7-5fec-4253-ab90-268ef707dd00",
   "metadata": {},
   "outputs": [
    {
     "data": {
      "text/plain": [
       "5"
      ]
     },
     "execution_count": 128,
     "metadata": {},
     "output_type": "execute_result"
    }
   ],
   "source": [
    "x.max()"
   ]
  },
  {
   "cell_type": "code",
   "execution_count": 129,
   "id": "d4c17994-bef3-4929-a924-bf4a83c832a0",
   "metadata": {},
   "outputs": [
    {
     "data": {
      "text/plain": [
       "2"
      ]
     },
     "execution_count": 129,
     "metadata": {},
     "output_type": "execute_result"
    }
   ],
   "source": [
    "x.argmin()"
   ]
  },
  {
   "cell_type": "code",
   "execution_count": 130,
   "id": "91a74342-111a-4123-8a6c-8cf8331f1fdc",
   "metadata": {},
   "outputs": [
    {
     "data": {
      "text/plain": [
       "1"
      ]
     },
     "execution_count": 130,
     "metadata": {},
     "output_type": "execute_result"
    }
   ],
   "source": [
    "x.argmax()"
   ]
  },
  {
   "cell_type": "markdown",
   "id": "9a347dca-70e5-4b14-b855-9d20a295c72f",
   "metadata": {},
   "source": [
    "### Logical reductions"
   ]
  },
  {
   "cell_type": "code",
   "execution_count": 131,
   "id": "9b57dddc-0251-4a65-ab20-878fcba0214c",
   "metadata": {},
   "outputs": [
    {
     "data": {
      "text/plain": [
       "False"
      ]
     },
     "execution_count": 131,
     "metadata": {},
     "output_type": "execute_result"
    }
   ],
   "source": [
    "np.all([True, True, False])"
   ]
  },
  {
   "cell_type": "code",
   "execution_count": 132,
   "id": "8fd51629-204b-401b-9603-88572532738b",
   "metadata": {},
   "outputs": [
    {
     "data": {
      "text/plain": [
       "True"
      ]
     },
     "execution_count": 132,
     "metadata": {},
     "output_type": "execute_result"
    }
   ],
   "source": [
    "np.all([True, True, True])"
   ]
  },
  {
   "cell_type": "code",
   "execution_count": 133,
   "id": "4859e9d8-a275-470b-b51a-a62158641364",
   "metadata": {},
   "outputs": [
    {
     "data": {
      "text/plain": [
       "True"
      ]
     },
     "execution_count": 133,
     "metadata": {},
     "output_type": "execute_result"
    }
   ],
   "source": [
    "np.any([True, True, False])"
   ]
  },
  {
   "cell_type": "code",
   "execution_count": 134,
   "id": "d01a58c5-4a0a-477d-9c91-342ac409e27b",
   "metadata": {},
   "outputs": [
    {
     "data": {
      "text/plain": [
       "False"
      ]
     },
     "execution_count": 134,
     "metadata": {},
     "output_type": "execute_result"
    }
   ],
   "source": [
    "np.any([False, False, False])"
   ]
  },
  {
   "cell_type": "markdown",
   "id": "0ff7bb4e-3027-4689-ae7c-71eda7a5e804",
   "metadata": {},
   "source": [
    "### Statistics"
   ]
  },
  {
   "cell_type": "code",
   "execution_count": 135,
   "id": "c196f6cb-fcfa-47cf-a6b8-4899824cfb68",
   "metadata": {},
   "outputs": [
    {
     "data": {
      "text/plain": [
       "2.75"
      ]
     },
     "execution_count": 135,
     "metadata": {},
     "output_type": "execute_result"
    }
   ],
   "source": [
    "x = np.array([2, 5, 1, 3])\n",
    "x.mean()"
   ]
  },
  {
   "cell_type": "code",
   "execution_count": 136,
   "id": "5fb4bb6b-208f-431c-9d71-8637f21531b4",
   "metadata": {},
   "outputs": [
    {
     "data": {
      "text/plain": [
       "1.479019945774904"
      ]
     },
     "execution_count": 136,
     "metadata": {},
     "output_type": "execute_result"
    }
   ],
   "source": [
    "x.std()"
   ]
  },
  {
   "cell_type": "code",
   "execution_count": 137,
   "id": "84af2187-dc7f-47e9-8430-3552919c3d40",
   "metadata": {},
   "outputs": [
    {
     "data": {
      "text/plain": [
       "2.5"
      ]
     },
     "execution_count": 137,
     "metadata": {},
     "output_type": "execute_result"
    }
   ],
   "source": [
    "np.median(x) "
   ]
  },
  {
   "cell_type": "markdown",
   "id": "b0dffeea-5157-4d49-8809-180ffec8d6e9",
   "metadata": {},
   "source": [
    "## *Broadcasting*"
   ]
  },
  {
   "cell_type": "markdown",
   "id": "fd1785e3-485e-4e0e-939e-0eef11a0a886",
   "metadata": {},
   "source": [
    "* Basic operations in Python are performed point-by-point.\n",
    "* To do this, the arrays must be the same size.\n",
    "* However, it is possible to operate arrays with different sizes\n",
    "     * If Python can transform these arrays so that they have the same size."
   ]
  },
  {
   "cell_type": "markdown",
   "id": "f30c16e7-7873-4977-83d0-333c4f5fb69b",
   "metadata": {},
   "source": [
    "<img src='figures/broadcasting.png' style=\"height:400px\">\n",
    "<center>Fonte: [2].</center>"
   ]
  },
  {
   "cell_type": "code",
   "execution_count": 138,
   "id": "d4df7c0f-9853-4de0-b22a-6aef4815d7b8",
   "metadata": {},
   "outputs": [
    {
     "data": {
      "text/plain": [
       "array([[ 0,  0,  0],\n",
       "       [10, 10, 10],\n",
       "       [20, 20, 20],\n",
       "       [30, 30, 30]])"
      ]
     },
     "execution_count": 138,
     "metadata": {},
     "output_type": "execute_result"
    }
   ],
   "source": [
    "a = np.tile(np.arange(0, 40, 10), (3, 1)).T\n",
    "a"
   ]
  },
  {
   "cell_type": "code",
   "execution_count": 139,
   "id": "d43b74a7-8098-4869-b7b4-5ee4ce6a9fce",
   "metadata": {},
   "outputs": [
    {
     "data": {
      "text/plain": [
       "array([1, 1, 1])"
      ]
     },
     "execution_count": 139,
     "metadata": {},
     "output_type": "execute_result"
    }
   ],
   "source": [
    "b = np.array([1, 1, 1])\n",
    "b"
   ]
  },
  {
   "cell_type": "code",
   "execution_count": 140,
   "id": "4d56d032-5df7-4203-b409-0bd9f27d160b",
   "metadata": {},
   "outputs": [
    {
     "data": {
      "text/plain": [
       "array([[ 1,  1,  1],\n",
       "       [11, 11, 11],\n",
       "       [21, 21, 21],\n",
       "       [31, 31, 31]])"
      ]
     },
     "execution_count": 140,
     "metadata": {},
     "output_type": "execute_result"
    }
   ],
   "source": [
    "a + b"
   ]
  },
  {
   "cell_type": "markdown",
   "id": "2c90d376-7537-41c8-b416-6243a86c072a",
   "metadata": {},
   "source": [
    "* Obs.: Broadcasting has already been used without us knowing."
   ]
  },
  {
   "cell_type": "code",
   "execution_count": 141,
   "id": "e5a6e39e-1de6-481d-9e1a-7281234ddf54",
   "metadata": {},
   "outputs": [
    {
     "data": {
      "text/plain": [
       "array([[1., 1., 1., 1., 1.],\n",
       "       [1., 1., 1., 1., 1.],\n",
       "       [1., 1., 1., 1., 1.],\n",
       "       [1., 1., 1., 1., 1.]])"
      ]
     },
     "execution_count": 141,
     "metadata": {},
     "output_type": "execute_result"
    }
   ],
   "source": [
    "a = np.ones((4, 5))\n",
    "a"
   ]
  },
  {
   "cell_type": "code",
   "execution_count": 142,
   "id": "e25c69d5-e189-4458-b8e4-579ca54bac0f",
   "metadata": {},
   "outputs": [
    {
     "data": {
      "text/plain": [
       "array([[2., 2., 2., 2., 2.],\n",
       "       [1., 1., 1., 1., 1.],\n",
       "       [1., 1., 1., 1., 1.],\n",
       "       [1., 1., 1., 1., 1.]])"
      ]
     },
     "execution_count": 142,
     "metadata": {},
     "output_type": "execute_result"
    }
   ],
   "source": [
    "a[0] = 2\n",
    "a"
   ]
  },
  {
   "cell_type": "markdown",
   "id": "ed7d0d27-788d-4c96-b50a-2b5c2bb70f5c",
   "metadata": {},
   "source": [
    "* Adding new dimensions"
   ]
  },
  {
   "cell_type": "code",
   "execution_count": 143,
   "id": "f5a9ad14-c681-4f35-81c6-0f519d78e072",
   "metadata": {},
   "outputs": [
    {
     "data": {
      "text/plain": [
       "array([ 0, 10, 20, 30])"
      ]
     },
     "execution_count": 143,
     "metadata": {},
     "output_type": "execute_result"
    }
   ],
   "source": [
    "a = np.arange(0, 40, 10)\n",
    "a"
   ]
  },
  {
   "cell_type": "code",
   "execution_count": 144,
   "id": "2df9d297-d75d-45da-b02b-ccf5e18389b9",
   "metadata": {},
   "outputs": [
    {
     "name": "stdout",
     "output_type": "stream",
     "text": [
      "1 (4,)\n"
     ]
    }
   ],
   "source": [
    "print(a.ndim, a.shape)"
   ]
  },
  {
   "cell_type": "code",
   "execution_count": 145,
   "id": "69f86a88-483b-42de-8a47-de3a9c6e2a2d",
   "metadata": {},
   "outputs": [
    {
     "data": {
      "text/plain": [
       "array([[ 0],\n",
       "       [10],\n",
       "       [20],\n",
       "       [30]])"
      ]
     },
     "execution_count": 145,
     "metadata": {},
     "output_type": "execute_result"
    }
   ],
   "source": [
    "a = a[:, np.newaxis] # adds a new axis: 1D -> 2D \n",
    "a"
   ]
  },
  {
   "cell_type": "code",
   "execution_count": 146,
   "id": "15079d3d-2d47-4e0b-9692-05135706dfd7",
   "metadata": {},
   "outputs": [
    {
     "name": "stdout",
     "output_type": "stream",
     "text": [
      "2 (4, 1)\n"
     ]
    }
   ],
   "source": [
    "print(a.ndim, a.shape)"
   ]
  },
  {
   "cell_type": "code",
   "execution_count": 147,
   "id": "bf28c17a-9334-420e-8a1b-2fca890e0d80",
   "metadata": {},
   "outputs": [
    {
     "data": {
      "text/plain": [
       "array([1, 1, 1])"
      ]
     },
     "execution_count": 147,
     "metadata": {},
     "output_type": "execute_result"
    }
   ],
   "source": [
    "b"
   ]
  },
  {
   "cell_type": "code",
   "execution_count": 148,
   "id": "8b00f792-62d6-4424-9ca0-acceffabfd6f",
   "metadata": {},
   "outputs": [
    {
     "data": {
      "text/plain": [
       "array([[ 1,  1,  1],\n",
       "       [11, 11, 11],\n",
       "       [21, 21, 21],\n",
       "       [31, 31, 31]])"
      ]
     },
     "execution_count": 148,
     "metadata": {},
     "output_type": "execute_result"
    }
   ],
   "source": [
    "a + b"
   ]
  },
  {
   "cell_type": "markdown",
   "id": "d54d6385-5d39-4474-ab3c-74d2e275f58f",
   "metadata": {},
   "source": [
    "## Manipulating the shape of arrangements"
   ]
  },
  {
   "cell_type": "markdown",
   "id": "12406d80-cf27-4576-9e2c-642c0fdc29c4",
   "metadata": {},
   "source": [
    "### Flattening"
   ]
  },
  {
   "cell_type": "code",
   "execution_count": 149,
   "id": "950f7534-d104-4f3a-a974-c8ac75d387ab",
   "metadata": {},
   "outputs": [
    {
     "data": {
      "text/plain": [
       "array([[1, 2, 3],\n",
       "       [4, 5, 6]])"
      ]
     },
     "execution_count": 149,
     "metadata": {},
     "output_type": "execute_result"
    }
   ],
   "source": [
    "a = np.array([[1, 2, 3], [4, 5, 6]])\n",
    "a"
   ]
  },
  {
   "cell_type": "code",
   "execution_count": 150,
   "id": "f190030f-e4ec-45f2-822e-fecb262f0f0b",
   "metadata": {},
   "outputs": [
    {
     "data": {
      "text/plain": [
       "array([1, 2, 3, 4, 5, 6])"
      ]
     },
     "execution_count": 150,
     "metadata": {},
     "output_type": "execute_result"
    }
   ],
   "source": [
    "a.ravel()"
   ]
  },
  {
   "cell_type": "markdown",
   "id": "e1976128-8b43-464c-84b1-2cf13acc0f7f",
   "metadata": {},
   "source": [
    "### Reshaping"
   ]
  },
  {
   "cell_type": "code",
   "execution_count": 151,
   "id": "f1c6fb23-447c-46e4-a404-9de71f8c67a3",
   "metadata": {},
   "outputs": [
    {
     "data": {
      "text/plain": [
       "array([[1, 2, 3],\n",
       "       [4, 5, 6]])"
      ]
     },
     "execution_count": 151,
     "metadata": {},
     "output_type": "execute_result"
    }
   ],
   "source": [
    "a"
   ]
  },
  {
   "cell_type": "code",
   "execution_count": 152,
   "id": "cfdfdce2-ee6f-49d8-bace-39633271e8ba",
   "metadata": {},
   "outputs": [
    {
     "data": {
      "text/plain": [
       "(2, 3)"
      ]
     },
     "execution_count": 152,
     "metadata": {},
     "output_type": "execute_result"
    }
   ],
   "source": [
    "a.shape"
   ]
  },
  {
   "cell_type": "code",
   "execution_count": 153,
   "id": "0ac1a509-2144-444e-bbe4-246e70b2335e",
   "metadata": {},
   "outputs": [
    {
     "data": {
      "text/plain": [
       "array([1, 2, 3, 4, 5, 6])"
      ]
     },
     "execution_count": 153,
     "metadata": {},
     "output_type": "execute_result"
    }
   ],
   "source": [
    "b = a.ravel()\n",
    "b"
   ]
  },
  {
   "cell_type": "code",
   "execution_count": 154,
   "id": "52ebbc5f-2f7b-4191-b3c0-b308da705498",
   "metadata": {},
   "outputs": [
    {
     "data": {
      "text/plain": [
       "(6,)"
      ]
     },
     "execution_count": 154,
     "metadata": {},
     "output_type": "execute_result"
    }
   ],
   "source": [
    "b.shape"
   ]
  },
  {
   "cell_type": "code",
   "execution_count": 155,
   "id": "084e3789-9bd3-4d56-891a-2ced3b7efc05",
   "metadata": {},
   "outputs": [
    {
     "data": {
      "text/plain": [
       "array([[1, 2, 3],\n",
       "       [4, 5, 6]])"
      ]
     },
     "execution_count": 155,
     "metadata": {},
     "output_type": "execute_result"
    }
   ],
   "source": [
    "c = b.reshape(2, -1)\n",
    "c"
   ]
  },
  {
   "cell_type": "markdown",
   "id": "e305efdc-e690-49da-9d5e-08bc9e5f8b1a",
   "metadata": {},
   "source": [
    "* **Careful!** np.reshape can return a view or a copy."
   ]
  },
  {
   "cell_type": "code",
   "execution_count": 156,
   "id": "ec64ae5b-437b-4f40-97f2-16d0d34c7633",
   "metadata": {},
   "outputs": [
    {
     "data": {
      "text/plain": [
       "array([[99,  2,  3],\n",
       "       [ 4,  5,  6]])"
      ]
     },
     "execution_count": 156,
     "metadata": {},
     "output_type": "execute_result"
    }
   ],
   "source": [
    "c[0, 0] = 99 # visão\n",
    "a"
   ]
  },
  {
   "cell_type": "code",
   "execution_count": 157,
   "id": "c93ce7b9-c27e-4b02-a63d-171c6fa8003f",
   "metadata": {},
   "outputs": [
    {
     "data": {
      "text/plain": [
       "array([[99,  4,  2],\n",
       "       [ 5,  3,  6]])"
      ]
     },
     "execution_count": 157,
     "metadata": {},
     "output_type": "execute_result"
    }
   ],
   "source": [
    "d = c.T.reshape(2,3)\n",
    "d"
   ]
  },
  {
   "cell_type": "code",
   "execution_count": 158,
   "id": "bd30169f-2eb1-4047-b060-c1b6a0470f99",
   "metadata": {},
   "outputs": [
    {
     "data": {
      "text/plain": [
       "array([[99,  2,  3],\n",
       "       [ 4,  5,  6]])"
      ]
     },
     "execution_count": 158,
     "metadata": {},
     "output_type": "execute_result"
    }
   ],
   "source": [
    "d[1, 1] = 99 # cópia\n",
    "c"
   ]
  },
  {
   "cell_type": "markdown",
   "id": "c3cf3044-20a6-42e5-912b-c0f035df00f3",
   "metadata": {},
   "source": [
    "## Sorting"
   ]
  },
  {
   "cell_type": "markdown",
   "id": "db6b922b-1985-4822-a905-d2979edb6fe4",
   "metadata": {},
   "source": [
    "### *In-place*"
   ]
  },
  {
   "cell_type": "code",
   "execution_count": 159,
   "id": "0f8ac4ba-c366-4f1f-b405-27826d1fc51d",
   "metadata": {},
   "outputs": [
    {
     "data": {
      "text/plain": [
       "array([[4, 3, 5],\n",
       "       [1, 2, 1]])"
      ]
     },
     "execution_count": 159,
     "metadata": {},
     "output_type": "execute_result"
    }
   ],
   "source": [
    "a = np.array([[4, 3, 5],\n",
    "              [1, 2, 1]])\n",
    "a"
   ]
  },
  {
   "cell_type": "code",
   "execution_count": 160,
   "id": "ac57b4de-ad3b-46ed-be0c-5c652138a1c3",
   "metadata": {},
   "outputs": [
    {
     "data": {
      "text/plain": [
       "array([[3, 4, 5],\n",
       "       [1, 1, 2]])"
      ]
     },
     "execution_count": 160,
     "metadata": {},
     "output_type": "execute_result"
    }
   ],
   "source": [
    "a.sort() # Sort each line individually. Same as a.sort(axis=1)\n",
    "a"
   ]
  },
  {
   "cell_type": "code",
   "execution_count": 161,
   "id": "f61e0e0b-9aac-4dc9-a565-16819d4bd71b",
   "metadata": {},
   "outputs": [
    {
     "data": {
      "text/plain": [
       "array([[1, 1, 2],\n",
       "       [3, 4, 5]])"
      ]
     },
     "execution_count": 161,
     "metadata": {},
     "output_type": "execute_result"
    }
   ],
   "source": [
    "a.sort(axis=0) # Sort each column individually\n",
    "a"
   ]
  },
  {
   "cell_type": "code",
   "execution_count": 162,
   "id": "c6006c2b-99ba-4870-aad3-53e4e43bae45",
   "metadata": {},
   "outputs": [
    {
     "data": {
      "text/plain": [
       "array([[4, 3, 5],\n",
       "       [1, 2, 1]])"
      ]
     },
     "execution_count": 162,
     "metadata": {},
     "output_type": "execute_result"
    }
   ],
   "source": [
    "a = np.array([[4, 3, 5],\n",
    "              [1, 2, 1]])\n",
    "a"
   ]
  },
  {
   "cell_type": "code",
   "execution_count": 163,
   "id": "dde404d1-7af4-415d-a221-83098c34e07c",
   "metadata": {},
   "outputs": [
    {
     "data": {
      "text/plain": [
       "array([[3, 4, 5],\n",
       "       [1, 1, 2]])"
      ]
     },
     "execution_count": 163,
     "metadata": {},
     "output_type": "execute_result"
    }
   ],
   "source": [
    "b = np.sort(a)\n",
    "b"
   ]
  },
  {
   "cell_type": "code",
   "execution_count": 164,
   "id": "6b04fe16-874d-4dc9-8ba1-ea3736ba3fc7",
   "metadata": {},
   "outputs": [
    {
     "data": {
      "text/plain": [
       "array([[1, 1, 2],\n",
       "       [3, 4, 5]])"
      ]
     },
     "execution_count": 164,
     "metadata": {},
     "output_type": "execute_result"
    }
   ],
   "source": [
    "c = np.sort(b, axis=0) # Ordena as colunas\n",
    "c"
   ]
  },
  {
   "cell_type": "code",
   "execution_count": 165,
   "id": "3fb55552-07ea-4431-b1af-0255a0ef54ec",
   "metadata": {},
   "outputs": [
    {
     "data": {
      "text/plain": [
       "array([4, 3, 1, 2])"
      ]
     },
     "execution_count": 165,
     "metadata": {},
     "output_type": "execute_result"
    }
   ],
   "source": [
    "a = np.array([4, 3, 1, 2])\n",
    "a"
   ]
  },
  {
   "cell_type": "code",
   "execution_count": 166,
   "id": "3075f13c-dd33-4163-89a4-1cdad2d96f40",
   "metadata": {},
   "outputs": [
    {
     "data": {
      "text/plain": [
       "array([2, 3, 1, 0], dtype=int64)"
      ]
     },
     "execution_count": 166,
     "metadata": {},
     "output_type": "execute_result"
    }
   ],
   "source": [
    "j = np.argsort(a)\n",
    "j"
   ]
  },
  {
   "cell_type": "code",
   "execution_count": 167,
   "id": "8b9b54ee-74f8-4752-8a19-d66d29db56fa",
   "metadata": {},
   "outputs": [
    {
     "data": {
      "text/plain": [
       "array([1, 2, 3, 4])"
      ]
     },
     "execution_count": 167,
     "metadata": {},
     "output_type": "execute_result"
    }
   ],
   "source": [
    "a[j]"
   ]
  },
  {
   "cell_type": "markdown",
   "id": "536fa9f3-337a-4f4f-8f0c-ac30736e724d",
   "metadata": {},
   "source": [
    "## Reading and writing text files"
   ]
  },
  {
   "cell_type": "code",
   "execution_count": 168,
   "id": "f94df961-2654-4d21-bbe3-b51901e3e739",
   "metadata": {},
   "outputs": [
    {
     "data": {
      "text/plain": [
       "array([[ 1900., 30000.,  4000., 48300.],\n",
       "       [ 1901., 47200.,  6100., 48200.],\n",
       "       [ 1902., 70200.,  9800., 41500.],\n",
       "       [ 1902., 77400., 35200., 38200.]])"
      ]
     },
     "execution_count": 168,
     "metadata": {},
     "output_type": "execute_result"
    }
   ],
   "source": [
    "data = np.array([[1900.,   30e3,    4e3, 48300],\n",
    "                 [1901., 47.2e3,  6.1e3, 48200],\n",
    "                 [1902., 70.2e3,  9.8e3, 41500],\n",
    "                 [1902., 77.4e3, 35.2e3, 38200]])\n",
    "data"
   ]
  },
  {
   "cell_type": "code",
   "execution_count": 169,
   "id": "6a8f49fa-c0d2-465b-979f-880d091218e8",
   "metadata": {},
   "outputs": [],
   "source": [
    "np.savetxt('data.txt', data)"
   ]
  },
  {
   "cell_type": "markdown",
   "id": "40b056ef-9761-4dc7-a949-4122b53385ec",
   "metadata": {},
   "source": [
    "### Reading a 2D array from a text file."
   ]
  },
  {
   "cell_type": "code",
   "execution_count": 170,
   "id": "802597c6-3cc4-4626-ac01-75fee2d3736b",
   "metadata": {},
   "outputs": [
    {
     "data": {
      "text/plain": [
       "array([[ 1900., 30000.,  4000., 48300.],\n",
       "       [ 1901., 47200.,  6100., 48200.],\n",
       "       [ 1902., 70200.,  9800., 41500.],\n",
       "       [ 1902., 77400., 35200., 38200.]])"
      ]
     },
     "execution_count": 170,
     "metadata": {},
     "output_type": "execute_result"
    }
   ],
   "source": [
    "data_2 = np.loadtxt('data.txt')\n",
    "data_2"
   ]
  },
  {
   "cell_type": "markdown",
   "id": "9d8edef6-48a6-4556-9a45-df39459c2bb3",
   "metadata": {},
   "source": [
    "## Bibliography\n",
    "---\n",
    "\n",
    "* **Scipy Lecture Notes**.\n",
    "    * Available in: http://www.scipy-lectures.org/ \n",
    "* NumPy documentation.\n",
    "    * http://docs.scipy.org/\n",
    "* Introduction to NumPy (SciPy 2015).\n",
    "    * https://github.com/enthought/Numpy-Tutorial-SciPyConf-2015 \n",
    "    * Note: Includes Matplotlib."
   ]
  }
 ],
 "metadata": {
  "kernelspec": {
   "display_name": "Python 3 (ipykernel)",
   "language": "python",
   "name": "python3"
  },
  "language_info": {
   "codemirror_mode": {
    "name": "ipython",
    "version": 3
   },
   "file_extension": ".py",
   "mimetype": "text/x-python",
   "name": "python",
   "nbconvert_exporter": "python",
   "pygments_lexer": "ipython3",
   "version": "3.9.18"
  }
 },
 "nbformat": 4,
 "nbformat_minor": 5
}
