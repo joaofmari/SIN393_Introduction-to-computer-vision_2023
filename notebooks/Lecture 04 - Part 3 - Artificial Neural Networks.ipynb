{
 "cells": [
  {
   "cell_type": "markdown",
   "id": "443a57e3",
   "metadata": {},
   "source": [
    "# **SIN 393 – Introduction to Computer Vision (2023)**\n",
    "\n",
    "# Lecture 04 - Part 3 - Artificial Neural Networks\n",
    "\n",
    "Prof. João Fernando Mari ([*joaofmari.github.io*](https://joaofmari.github.io/))\n",
    "\n",
    "---"
   ]
  },
  {
   "cell_type": "markdown",
   "id": "82143f90",
   "metadata": {},
   "source": [
    "## Importing the required libraries\n",
    "---"
   ]
  },
  {
   "cell_type": "code",
   "execution_count": 1,
   "id": "c3f119c0",
   "metadata": {},
   "outputs": [],
   "source": [
    "import numpy as np\n",
    "import matplotlib.pyplot as plt\n",
    "import ipywidgets as widgets\n",
    "\n",
    "from sklearn import datasets, metrics, preprocessing, model_selection\n",
    "\n",
    "### %matplotlib notebook"
   ]
  },
  {
   "cell_type": "code",
   "execution_count": 2,
   "id": "f2980b90-c765-4564-8698-13e0bc527314",
   "metadata": {},
   "outputs": [],
   "source": [
    "def error_brute_force(X, y, w0=[-1, 1], w1=[-1, 1], b=[-1, 1], step=0.1):\n",
    "    \"\"\"\n",
    "    20 x 20 x 20 = 8.000 combinações de parâmtros\n",
    "    \"\"\"\n",
    "    # Initialize error space\n",
    "    error_space = np.zeros([len(np.arange(w0[0], w0[1], step)),\n",
    "                            len(np.arange(w1[0], w1[1], step)),\n",
    "                            len(np.arange(b[0], b[1], step))])\n",
    "\n",
    "    # Iterate along w0\n",
    "    for i, w0_ in enumerate(np.arange(w0[0], w0[1], step)):\n",
    "        # Iterate along w1\n",
    "        for j, w1_ in enumerate(np.arange(w1[0], w1[1], step)):\n",
    "            # Iterate along b\n",
    "            for k, b_ in enumerate(np.arange(b[0], b[1], step)):\n",
    "                # Initialize epoch error\n",
    "                erro_epoca = 0.\n",
    "                w = [w0_, w1_]\n",
    "                # Iterate along dataset (one epoch)\n",
    "                for x_, y_ in zip(X, y):\n",
    "                    # Innet product\n",
    "                    v = np.dot(x_, w) + b_\n",
    "                    # Activation function\n",
    "                    y_out = np.where(v >= 0., 1, 0)\n",
    "\n",
    "                    # Error\n",
    "                    erro = y_ - y_out\n",
    "                    # Update epoch error\n",
    "                    erro_epoca = erro_epoca + erro**2\n",
    "            \n",
    "                # Erro total da época.\n",
    "                erro_epoca = erro_epoca / 2.\n",
    "                error_space[i, j, k] = erro_epoca      \n",
    "\n",
    "    return error_space "
   ]
  },
  {
   "cell_type": "markdown",
   "id": "3234925b",
   "metadata": {},
   "source": [
    "## Training the model with binary functions\n",
    "---"
   ]
  },
  {
   "cell_type": "code",
   "execution_count": 3,
   "id": "dc5f177b",
   "metadata": {},
   "outputs": [],
   "source": [
    "# Data\n",
    "X_bin = np.array([[0, 0],\n",
    "                  [0, 1],\n",
    "                  [1, 0],\n",
    "                  [1, 1]])\n",
    "\n",
    "# Binary functions\n",
    "# ================\n",
    "# AND\n",
    "y_and = np.array([0, 0, 0, 1])\n",
    "\n",
    "# OR\n",
    "y_or = np.array([0, 1, 1, 1])\n",
    "\n",
    "# XOR\n",
    "y_xor = np.array([0, 1, 1, 0])"
   ]
  },
  {
   "cell_type": "code",
   "execution_count": 4,
   "id": "351992a8",
   "metadata": {},
   "outputs": [],
   "source": [
    "# Loading the IRIS dataset\n",
    "# ========================\n",
    "iris = datasets.load_iris()\n",
    "\n",
    "# Selects only the Setosa (0) and Virginica (1) classes.\n",
    "# Select only 2 attributes: sepal length (0) and sepal width (1)\n",
    "X_iris = iris.data[iris.target < 2, :2]\n",
    "y_iris = iris.target[iris.target < 2]"
   ]
  },
  {
   "cell_type": "markdown",
   "id": "91f669a6-2da4-4d68-9fa6-5a66dc125702",
   "metadata": {},
   "source": [
    "## Select the data"
   ]
  },
  {
   "cell_type": "code",
   "execution_count": 5,
   "id": "f4f8f3f3-df3d-4ef1-a219-50db2ff2c7bd",
   "metadata": {},
   "outputs": [],
   "source": [
    "X = X_bin\n",
    "y = y_and\n",
    "str_title = 'AND'"
   ]
  },
  {
   "cell_type": "markdown",
   "id": "a367c6fc-2e38-468a-b3a5-c3d46264575e",
   "metadata": {},
   "source": [
    "## Model"
   ]
  },
  {
   "cell_type": "code",
   "execution_count": 6,
   "id": "46165b1d-d7f3-49c1-8621-124c6aee6a16",
   "metadata": {},
   "outputs": [],
   "source": [
    "error_space = error_brute_force(X, y)"
   ]
  },
  {
   "cell_type": "code",
   "execution_count": 7,
   "id": "58ac0021-c8f3-40d1-bfb8-d5366c038191",
   "metadata": {},
   "outputs": [
    {
     "name": "stdout",
     "output_type": "stream",
     "text": [
      "(20, 20, 20)\n"
     ]
    }
   ],
   "source": [
    "print(error_space.shape)"
   ]
  },
  {
   "cell_type": "code",
   "execution_count": 8,
   "id": "6e2583e6-e989-4f6a-8953-e3fe6f916cad",
   "metadata": {},
   "outputs": [],
   "source": [
    "def plot_error(error_space, w0_, w1_, b_, w0=[-1, 1], w1=[-1, 1], b=[-1, 1], step=0.1):\n",
    "\n",
    "    # Convert index to value.\n",
    "    w0_v = np.arange(w0[0], w0[1], step)\n",
    "    w1_v = np.arange(w1[0], w1[1], step)\n",
    "    b_v = np.arange(b[0], b[1], step)\n",
    "\n",
    "    w0_2 = w0_v[w0_]\n",
    "    w1_2 = w1_v[w1_]\n",
    "    b_2 = b_v[b_]\n",
    "\n",
    "    # Avoid zero division\n",
    "    if w1_2 == w0_2 or w1_2 == b_2:\n",
    "        w1_2 = w1_2 + 0.01\n",
    "\n",
    "    w = [w0_2, w1_2]\n",
    "\n",
    "    # Define os pontos extremos do segmento da superficie de decisão plotado.\n",
    "    # p0 = (x0_min, f_x0_min); p1 = (x0_max, f_x0_max)\n",
    "    # ----------\n",
    "    x0_min = X.min() - 1.\n",
    "    x0_max = X.max() + 1.\n",
    "    # ----------\n",
    "    f_x0_min = -(w[0] / w[1]) * x0_min - (b_2 / w[1])\n",
    "    f_x0_max = -(w[0] / w[1]) * x0_max - (b_2 / w[1])\n",
    "\n",
    "    colors = ['r', 'g', 'b', 'y', 'c', 'm']\n",
    "\n",
    "    print(f'w0: {w0_2:.2f} w1: {w1_2:.2f} b: {b_2:.2f} Error: {error_space[w0_,w1_,b_]}')\n",
    "\n",
    "    fig, ax  = plt.subplots(1, 4, figsize=(12, 3))\n",
    "    for y_ in np.unique(y):\n",
    "        ax[0].scatter(X[y==y_][:,0], X[y==y_][:,1], color=colors[y_], label=str(y_))\n",
    " \n",
    "    ax[0].set_xlabel('$x_0$')\n",
    "    ax[0].set_ylabel('$x_1$')\n",
    "    ax[0].legend()\n",
    "    ax[0].set_title(str_title)\n",
    "\n",
    "    ax[0].set_xlim(X.min()-.5, X.max()+.5)\n",
    "    ax[0].set_ylim(X.min()-.5, X.max()+.5)\n",
    "\n",
    "    # Plots the surface decision.\n",
    "    ax[0].plot([x0_min, x0_max], [f_x0_min, f_x0_max], color='b')\n",
    "    \n",
    "    ax[1].plot(w0_v, error_space[:,w1_,b_])\n",
    "    ax[1].axvline(w0_2, color='r')\n",
    "    ax[1].set_title('$w_0$')\n",
    "    ax[1].set_xlabel('$w_0$')\n",
    "    ax[1].set_ylabel('$Error$')\n",
    "    \n",
    "    ax[2].plot(w1_v, error_space[w0_,:,b_])\n",
    "    ax[2].axvline(w1_2, color='r')\n",
    "    ax[2].set_title('$w_1$')\n",
    "    ax[2].set_xlabel('$w_1$')\n",
    "    ### ax[2].set_ylabel('$Error$')\n",
    "    \n",
    "    ax[3].plot(b_v, error_space[w0_,w1_,:])   \n",
    "    ax[3].axvline(b_2, color='r')\n",
    "    ax[3].set_title('$b$')\n",
    "    ax[3].set_xlabel('$b$')\n",
    "    ### ax[3].set_ylabel('$Error$')\n",
    "\n",
    "    plt.tight_layout()"
   ]
  },
  {
   "cell_type": "code",
   "execution_count": 9,
   "id": "64a5ae94-9832-46e1-aac5-23433832a6ab",
   "metadata": {},
   "outputs": [
    {
     "data": {
      "application/vnd.jupyter.widget-view+json": {
       "model_id": "9185756417fc4592899dd9a14a542a2c",
       "version_major": 2,
       "version_minor": 0
      },
      "text/plain": [
       "interactive(children=(IntSlider(value=10, description='w0_', max=20), IntSlider(value=10, description='w1_', m…"
      ]
     },
     "metadata": {},
     "output_type": "display_data"
    },
    {
     "data": {
      "text/plain": [
       "<function __main__.plot_error(error_space, w0_, w1_, b_, w0=[-1, 1], w1=[-1, 1], b=[-1, 1], step=0.1)>"
      ]
     },
     "execution_count": 9,
     "metadata": {},
     "output_type": "execute_result"
    }
   ],
   "source": [
    "slider_w0 = widgets.IntSlider(value=10, min=0, max=20)\n",
    "slider_w1 = widgets.IntSlider(value=10, min=0, max=20)\n",
    "slider_b = widgets.IntSlider(value=10, min=0, max=20)\n",
    "\n",
    "widgets.interact(plot_error, error_space=widgets.fixed(error_space), \n",
    "                 w0_=slider_w0, w1_=slider_w1, b_=slider_b, \n",
    "                 w0=widgets.fixed([-1, 1]), w1=widgets.fixed([-1, 1]), b=widgets.fixed([-1, 1]), \n",
    "                 step=widgets.fixed(0.1))"
   ]
  },
  {
   "cell_type": "markdown",
   "id": "c5875b50",
   "metadata": {},
   "source": [
    "## Bibliography\n",
    "---\n",
    "\n",
    "* GONZALEZ, R.C.; WOODS, R.E. Digital Image Processing. 3rd ed. Pearson, 2007."
   ]
  }
 ],
 "metadata": {
  "hide_input": false,
  "kernelspec": {
   "display_name": "Python 3 (ipykernel)",
   "language": "python",
   "name": "python3"
  },
  "language_info": {
   "codemirror_mode": {
    "name": "ipython",
    "version": 3
   },
   "file_extension": ".py",
   "mimetype": "text/x-python",
   "name": "python",
   "nbconvert_exporter": "python",
   "pygments_lexer": "ipython3",
   "version": "3.9.18"
  },
  "toc": {
   "base_numbering": 1,
   "nav_menu": {},
   "number_sections": true,
   "sideBar": true,
   "skip_h1_title": true,
   "title_cell": "Índice",
   "title_sidebar": "Contents",
   "toc_cell": false,
   "toc_position": {
    "height": "calc(100% - 180px)",
    "left": "10px",
    "top": "150px",
    "width": "261.2px"
   },
   "toc_section_display": true,
   "toc_window_display": false
  }
 },
 "nbformat": 4,
 "nbformat_minor": 5
}
