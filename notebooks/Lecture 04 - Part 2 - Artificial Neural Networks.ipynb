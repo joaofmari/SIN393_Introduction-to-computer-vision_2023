{
 "cells": [
  {
   "cell_type": "markdown",
   "id": "443a57e3",
   "metadata": {},
   "source": [
    "# **SIN 393 – Introduction to Computer Vision (2023)**\n",
    "\n",
    "# Lecture 04 - Part 2 - Artificial Neural Networks\n",
    "\n",
    "Prof. João Fernando Mari ([*joaofmari.github.io*](https://joaofmari.github.io/))\n",
    "\n",
    "---"
   ]
  },
  {
   "cell_type": "markdown",
   "id": "82143f90",
   "metadata": {},
   "source": [
    "## Importing the required libraries\n",
    "---"
   ]
  },
  {
   "cell_type": "code",
   "execution_count": 1,
   "id": "c3f119c0",
   "metadata": {},
   "outputs": [],
   "source": [
    "import numpy as np\n",
    "import matplotlib.pyplot as plt\n",
    "import ipywidgets as widgets\n",
    "\n",
    "from sklearn import datasets, metrics, preprocessing, model_selection\n",
    "\n",
    "### %matplotlib notebook"
   ]
  },
  {
   "cell_type": "markdown",
   "id": "6a7f8636",
   "metadata": {},
   "source": [
    "## Perceptron separation hyperplane\n",
    "---"
   ]
  },
  {
   "cell_type": "code",
   "execution_count": 2,
   "id": "2b897acc",
   "metadata": {},
   "outputs": [],
   "source": [
    "def decision_surface(X, y, w0, w1, b, str_title):\n",
    "    \"\"\"\n",
    "    Plots the decision surface for the current epoch\n",
    "    \"\"\"\n",
    "    # Avoid zero division\n",
    "    if w1 == w0 or w1 == b:\n",
    "        w1 = w1 + 0.01\n",
    "\n",
    "    w = [w0, w1]\n",
    "\n",
    "    # Defines the extreme points of the decision surface line segment.\n",
    "    # p0 = (x0_min, f_x0_min); p1 = (x0_max, f_x0_max)\n",
    "    # ----------\n",
    "    x0_min = X.min() - 1.\n",
    "    x0_max = X.max() + 1.\n",
    "    # ----------\n",
    "    f_x0_min = -(w[0] / w[1]) * x0_min - (b / w[1])\n",
    "    f_x0_max = -(w[0] / w[1]) * x0_max - (b / w[1])\n",
    "\n",
    "    colors = ['r', 'g', 'b', 'y', 'c', 'm']\n",
    "\n",
    "    plt.figure()\n",
    "    # Plots the trainning set\n",
    "    for y_ in np.unique(y):\n",
    "        plt.scatter(X[y==y_][:,0], X[y==y_][:,1], color=colors[y_], label=str(y_))\n",
    "\n",
    "    # Labels, legends and title \n",
    "    plt.xlabel('x_0')\n",
    "    plt.ylabel('x_1')\n",
    "    plt.legend()\n",
    "    plt.title(str_title)\n",
    "\n",
    "    # Set the limits of the visualization space.\n",
    "    plt.xlim(X.min()-.5, X.max()+.5)\n",
    "    plt.ylim(X.min()-.5, X.max()+.5)\n",
    "\n",
    "    # Plots the surface decision.\n",
    "    plt.plot([x0_min, x0_max], [f_x0_min, f_x0_max], color='b')\n",
    "\n",
    "    # Show de figure.\n",
    "    plt.show()"
   ]
  },
  {
   "cell_type": "markdown",
   "id": "3234925b",
   "metadata": {},
   "source": [
    "## Training the model with binary functions\n",
    "---"
   ]
  },
  {
   "cell_type": "code",
   "execution_count": 3,
   "id": "dc5f177b",
   "metadata": {},
   "outputs": [],
   "source": [
    "# Data\n",
    "X_bin = np.array([[0, 0],\n",
    "                  [0, 1],\n",
    "                  [1, 0],\n",
    "                  [1, 1]])\n",
    "\n",
    "\n",
    "# Binary functions\n",
    "# ================\n",
    "# AND\n",
    "y_and = np.array([0, 0, 0, 1])\n",
    "\n",
    "# OR\n",
    "y_or = np.array([0, 1, 1, 1])\n",
    "\n",
    "# XOR\n",
    "y_xor = np.array([0, 1, 1, 0])"
   ]
  },
  {
   "cell_type": "code",
   "execution_count": 4,
   "id": "351992a8",
   "metadata": {},
   "outputs": [],
   "source": [
    "# Loading the IRIS dataset\n",
    "iris = datasets.load_iris()\n",
    "\n",
    "# Select only 2 classes: Setosa (0) and Virginica (1).\n",
    "# Select only 2 attributes: sepal length (0) and sepal width (1).\n",
    "X = iris.data[iris.target < 2, :2]\n",
    "y = iris.target[iris.target < 2]"
   ]
  },
  {
   "cell_type": "markdown",
   "id": "27f61e8b-7364-4f18-8248-8d402d49f0b3",
   "metadata": {},
   "source": [
    "## Select the data"
   ]
  },
  {
   "cell_type": "code",
   "execution_count": 5,
   "id": "f4f8f3f3-df3d-4ef1-a219-50db2ff2c7bd",
   "metadata": {},
   "outputs": [],
   "source": [
    "X = X_bin\n",
    "y = y_and\n",
    "str_title = 'AND'"
   ]
  },
  {
   "cell_type": "markdown",
   "id": "a367c6fc-2e38-468a-b3a5-c3d46264575e",
   "metadata": {},
   "source": [
    "## Model"
   ]
  },
  {
   "cell_type": "code",
   "execution_count": 6,
   "id": "46165b1d-d7f3-49c1-8621-124c6aee6a16",
   "metadata": {},
   "outputs": [
    {
     "name": "stdout",
     "output_type": "stream",
     "text": [
      "\n",
      "Pesos: [0.70391034 0.8643265 ]\n",
      "Bias: 0.8788524917214696\n"
     ]
    }
   ],
   "source": [
    "# Weights (w) initialization\n",
    "w = np.random.rand(X.shape[1]) \n",
    "print(f'\\nPesos: {w}')\n",
    "\n",
    "# Bias (b) initialization\n",
    "b = np.random.rand() \n",
    "print(f'Bias: {b}')"
   ]
  },
  {
   "cell_type": "code",
   "execution_count": 7,
   "id": "64a5ae94-9832-46e1-aac5-23433832a6ab",
   "metadata": {},
   "outputs": [
    {
     "data": {
      "application/vnd.jupyter.widget-view+json": {
       "model_id": "d8da196c82df4f39aa1d5000248803bf",
       "version_major": 2,
       "version_minor": 0
      },
      "text/plain": [
       "interactive(children=(FloatSlider(value=0.0, description='w0', max=2.0, min=-2.0), FloatSlider(value=0.0, desc…"
      ]
     },
     "metadata": {},
     "output_type": "display_data"
    },
    {
     "data": {
      "text/plain": [
       "<function __main__.decision_surface(X, y, w0, w1, b, str_title)>"
      ]
     },
     "execution_count": 7,
     "metadata": {},
     "output_type": "execute_result"
    }
   ],
   "source": [
    "slider_w0 = widgets.FloatSlider(value=0, min=-2, max=2)\n",
    "slider_w1 = widgets.FloatSlider(value=0, min=-2, max=2)\n",
    "slider_b = widgets.FloatSlider(value=0, min=-2, max=2)\n",
    "\n",
    "widgets.interact(decision_surface, X=widgets.fixed(X), y=widgets.fixed(y), \n",
    "                 w0=slider_w0, w1=slider_w1, b=slider_b, str_title=widgets.fixed(str_title))"
   ]
  },
  {
   "cell_type": "markdown",
   "id": "c5875b50",
   "metadata": {},
   "source": [
    "## Bibliography\n",
    "---\n",
    "\n",
    "* GONZALEZ, R.C.; WOODS, R.E. Digital Image Processing. 3rd ed. Pearson, 2007."
   ]
  }
 ],
 "metadata": {
  "hide_input": false,
  "kernelspec": {
   "display_name": "Python 3 (ipykernel)",
   "language": "python",
   "name": "python3"
  },
  "language_info": {
   "codemirror_mode": {
    "name": "ipython",
    "version": 3
   },
   "file_extension": ".py",
   "mimetype": "text/x-python",
   "name": "python",
   "nbconvert_exporter": "python",
   "pygments_lexer": "ipython3",
   "version": "3.9.18"
  },
  "toc": {
   "base_numbering": 1,
   "nav_menu": {},
   "number_sections": true,
   "sideBar": true,
   "skip_h1_title": true,
   "title_cell": "Índice",
   "title_sidebar": "Contents",
   "toc_cell": false,
   "toc_position": {
    "height": "calc(100% - 180px)",
    "left": "10px",
    "top": "150px",
    "width": "261.2px"
   },
   "toc_section_display": true,
   "toc_window_display": false
  }
 },
 "nbformat": 4,
 "nbformat_minor": 5
}
