{
 "cells": [
  {
   "cell_type": "markdown",
   "id": "92d7e288-caf1-47fb-942e-99e650afc649",
   "metadata": {},
   "source": [
    "# **SIN 393 – Introduction to Computer Vision (2023)**\n",
    "\n",
    "# Lecture 05 - Part 2b - Deep Learning\n",
    "\n",
    "Prof. João Fernando Mari ([*joaofmari.github.io*](https://joaofmari.github.io/))\n",
    "\n",
    "---\n",
    "* Implementation of the same model in Part 2, but in PyTorch."
   ]
  },
  {
   "cell_type": "markdown",
   "id": "dc4a1861-a43c-4783-83f3-4840a40595fd",
   "metadata": {},
   "source": [
    "## Importing the required libraries"
   ]
  },
  {
   "cell_type": "code",
   "execution_count": 1,
   "id": "955f337e-8db0-414c-9ee0-de770836237a",
   "metadata": {},
   "outputs": [],
   "source": [
    "import torch\n",
    "import torch.nn as nn\n",
    "import torch.nn.functional as F\n",
    "import torch.optim as optim\n",
    "from torch.autograd import Variable\n",
    "\n",
    "import graphviz\n",
    "from graphviz import Digraph"
   ]
  },
  {
   "cell_type": "markdown",
   "id": "81f2ff48-658b-4917-88bd-c33fe5946046",
   "metadata": {},
   "source": [
    "## Model\n",
    "---"
   ]
  },
  {
   "cell_type": "code",
   "execution_count": 2,
   "id": "aa792d9e-9a02-4ccb-a88c-99ed938ba868",
   "metadata": {},
   "outputs": [],
   "source": [
    "class Net(nn.Module):\n",
    "\n",
    "    def __init__(self):\n",
    "        super().__init__()\n",
    "\n",
    "        self.linear0 = nn.Linear(1, 2)\n",
    "        self.linear1 = nn.Linear(2, 1)\n",
    "\n",
    "    def forward(self, x):\n",
    "        x = self.linear0(x)\n",
    "        x = F.sigmoid(x)\n",
    "\n",
    "        x = self.linear1(x)\n",
    "        x = F.sigmoid(x)\n",
    "\n",
    "        return x"
   ]
  },
  {
   "cell_type": "code",
   "execution_count": 3,
   "id": "5f878268-3f57-47fb-b5c4-3bc83dff91f4",
   "metadata": {},
   "outputs": [
    {
     "name": "stdout",
     "output_type": "stream",
     "text": [
      "Net(\n",
      "  (linear0): Linear(in_features=1, out_features=2, bias=True)\n",
      "  (linear1): Linear(in_features=2, out_features=1, bias=True)\n",
      ")\n"
     ]
    }
   ],
   "source": [
    "# Instância um objeto da classe Net\n",
    "model = Net()\n",
    "print(model)"
   ]
  },
  {
   "cell_type": "markdown",
   "id": "e0595a41-d444-4d87-a17e-6592a9bc2e97",
   "metadata": {},
   "source": [
    "![title](figures/nn02_ok.png)"
   ]
  },
  {
   "cell_type": "markdown",
   "id": "eea5a0b8-e29e-4ba1-ab8a-c99ff1344b57",
   "metadata": {},
   "source": [
    "### Loss and optimizer"
   ]
  },
  {
   "cell_type": "code",
   "execution_count": 4,
   "id": "2c1abe27-269c-4ff9-aa39-ba811853bce2",
   "metadata": {},
   "outputs": [],
   "source": [
    "# Função de perda (loss) \n",
    "criterion = nn.MSELoss(reduction='mean')\n",
    "### criterion = nn.CrossEntropyLoss()\n",
    "### criterion = nn.NLLLoss()\n",
    "\n",
    "# Otimizador - Stochastic Gradient Descent\n",
    "optimizer = optim.SGD(model.parameters(), lr=0.01)"
   ]
  },
  {
   "cell_type": "markdown",
   "id": "67f5dfda-c42e-4ba0-b098-ada2a2ab780f",
   "metadata": {},
   "source": [
    "### Inputs and outputs"
   ]
  },
  {
   "cell_type": "code",
   "execution_count": 5,
   "id": "1aefb349-8bf5-446a-9a73-d3beae7de287",
   "metadata": {},
   "outputs": [
    {
     "name": "stdout",
     "output_type": "stream",
     "text": [
      "torch.Size([1]) torch.Size([1])\n"
     ]
    }
   ],
   "source": [
    "x = torch.FloatTensor([0.3])\n",
    "y = torch.Tensor([1.0])\n",
    "\n",
    "print(x.shape, y.shape)"
   ]
  },
  {
   "cell_type": "markdown",
   "id": "c7536c7c-5093-4934-b63d-1948128432a3",
   "metadata": {},
   "source": [
    "### Weights and bias"
   ]
  },
  {
   "cell_type": "code",
   "execution_count": 6,
   "id": "a1436eaa-0e28-4c5a-bd5b-4f9e0c9e090f",
   "metadata": {},
   "outputs": [
    {
     "data": {
      "text/plain": [
       "<All keys matched successfully>"
      ]
     },
     "execution_count": 6,
     "metadata": {},
     "output_type": "execute_result"
    }
   ],
   "source": [
    "state_dict = model.state_dict()\n",
    "state_dict['linear0.weight'] = torch.tensor([[0.1],\n",
    "                                             [0.2]])\n",
    "state_dict['linear0.bias'] = torch.tensor([0.25, 0.25])\n",
    "state_dict['linear1.weight'] = torch.tensor([[0.5, 0.6]])\n",
    "state_dict['linear1.bias'] = torch.tensor([0.35])\n",
    "\n",
    "model.load_state_dict(state_dict)"
   ]
  },
  {
   "cell_type": "code",
   "execution_count": 7,
   "id": "ff6d7cca-9cf6-4234-a512-fe2fb62c8a1e",
   "metadata": {},
   "outputs": [
    {
     "name": "stdout",
     "output_type": "stream",
     "text": [
      "\n",
      ">> Weights and bias - Iteration 0\n",
      "\n",
      " linear0.weight Parameter containing:\n",
      "tensor([[0.1000],\n",
      "        [0.2000]], requires_grad=True)\n",
      "\n",
      " linear0.bias Parameter containing:\n",
      "tensor([0.2500, 0.2500], requires_grad=True)\n",
      "\n",
      " linear1.weight Parameter containing:\n",
      "tensor([[0.5000, 0.6000]], requires_grad=True)\n",
      "\n",
      " linear1.bias Parameter containing:\n",
      "tensor([0.3500], requires_grad=True)\n"
     ]
    }
   ],
   "source": [
    "print('\\n>> Weights and bias - Iteration 0')\n",
    "for k, v in model.named_parameters():\n",
    "    print('\\n', k, v)"
   ]
  },
  {
   "cell_type": "markdown",
   "id": "50bcc5fc-7a2a-4e71-8001-e5014928d7f5",
   "metadata": {},
   "source": [
    "## Forward pass\n",
    "---"
   ]
  },
  {
   "cell_type": "code",
   "execution_count": 8,
   "id": "7cf569ee-e920-47e2-9bb7-efe51bbf8713",
   "metadata": {},
   "outputs": [
    {
     "name": "stdout",
     "output_type": "stream",
     "text": [
      "\n",
      ">> Forward:\n",
      "tensor([0.7273], grad_fn=<SigmoidBackward0>)\n",
      "\n",
      ">> Loss:\n",
      "tensor(0.0744, grad_fn=<MseLossBackward0>)\n"
     ]
    }
   ],
   "source": [
    "model.zero_grad()\n",
    "\n",
    "output = model(Variable(x))\n",
    "print('\\n>> Forward:')\n",
    "print(output)\n",
    "\n",
    "loss = criterion(output, Variable(y))\n",
    "print('\\n>> Loss:')\n",
    "print(loss)"
   ]
  },
  {
   "cell_type": "code",
   "execution_count": 9,
   "id": "4a18546e-af37-46c8-9c77-7e8d1fd8f116",
   "metadata": {},
   "outputs": [
    {
     "name": "stdout",
     "output_type": "stream",
     "text": [
      "\n",
      ">> Gradients 0\n",
      "\n",
      "Layer 1\n",
      "None\n",
      "None\n",
      "\n",
      "Layer 0\n",
      "None\n",
      "None\n"
     ]
    }
   ],
   "source": [
    "print('\\n>> Gradients 0')\n",
    "print('\\nLayer 1')\n",
    "print(model.linear1.weight.grad)\n",
    "print(model.linear1.bias.grad)\n",
    "print('\\nLayer 0')\n",
    "print(model.linear0.weight.grad)\n",
    "print(model.linear0.bias.grad)"
   ]
  },
  {
   "cell_type": "markdown",
   "id": "d9664229-3778-4d78-b095-e10eef8c8101",
   "metadata": {},
   "source": [
    "## Backpropagation pass\n",
    "---"
   ]
  },
  {
   "cell_type": "code",
   "execution_count": 10,
   "id": "61bd2a4f-d1b7-4512-98ea-91bac6949394",
   "metadata": {},
   "outputs": [
    {
     "name": "stdout",
     "output_type": "stream",
     "text": [
      "\n",
      ">> Gradients 1\n",
      "\n",
      "Layer 1\n",
      "tensor([[-0.0616, -0.0624]])\n",
      "tensor([-0.1082])\n",
      "\n",
      "Layer 0\n",
      "tensor([[-0.0040],\n",
      "        [-0.0048]])\n",
      "tensor([-0.0133, -0.0158])\n"
     ]
    }
   ],
   "source": [
    "loss.backward()\n",
    "\n",
    "print('\\n>> Gradients 1')\n",
    "print('\\nLayer 1')\n",
    "print(model.linear1.weight.grad)\n",
    "print(model.linear1.bias.grad)\n",
    "print('\\nLayer 0')\n",
    "print(model.linear0.weight.grad)\n",
    "print(model.linear0.bias.grad)"
   ]
  },
  {
   "cell_type": "markdown",
   "id": "6735f2d3-bcbc-4cf1-ad4a-91f9956a7528",
   "metadata": {},
   "source": [
    "## Gradient descent\n",
    "---"
   ]
  },
  {
   "cell_type": "code",
   "execution_count": 11,
   "id": "7199688c-729e-4be2-b9a8-4ad59267d176",
   "metadata": {},
   "outputs": [
    {
     "name": "stdout",
     "output_type": "stream",
     "text": [
      "\n",
      ">> Weights and bias - Iteration 1\n",
      "\n",
      " linear0.weight Parameter containing:\n",
      "tensor([[0.1000],\n",
      "        [0.2000]], requires_grad=True)\n",
      "\n",
      " linear0.bias Parameter containing:\n",
      "tensor([0.2501, 0.2502], requires_grad=True)\n",
      "\n",
      " linear1.weight Parameter containing:\n",
      "tensor([[0.5006, 0.6006]], requires_grad=True)\n",
      "\n",
      " linear1.bias Parameter containing:\n",
      "tensor([0.3511], requires_grad=True)\n"
     ]
    }
   ],
   "source": [
    "optimizer.step()\n",
    "\n",
    "print('\\n>> Weights and bias - Iteration 1')\n",
    "for k, v in model.named_parameters():\n",
    "    print('\\n', k, v)"
   ]
  },
  {
   "cell_type": "markdown",
   "id": "95e4719b-e9bf-41f3-be5d-fefefd0402b3",
   "metadata": {},
   "source": [
    "## Bibliography\n",
    "---\n",
    "* Rabindra Lamsal. A step by step forward pass and backpropagation example\n",
    "    * https://theneuralblog.com/forward-pass-backpropagation-example/\n",
    "* Matt Mazur. A Step by Step Backpropagation Example\n",
    "    * https://mattmazur.com/2015/03/17/a-step-by-step-backpropagation-example/\n",
    "* Soumith Chintala. DEEP LEARNING WITH PYTORCH: A 60 MINUTE BLITZ.\n",
    "    * https://pytorch.org/tutorials/beginner/deep_learning_60min_blitz.html \n",
    "* A GENTLE INTRODUCTION TO TORCH.AUTOGRAD\n",
    "    * https://pytorch.org/tutorials/beginner/blitz/autograd_tutorial.html \n",
    "* Rabindra Lamsal. A step by step forward pass and backpropagation example\n",
    "    * https://theneuralblog.com/forward-pass-backpropagation-example/\n",
    "* Matt Mazur. A Step by Step Backpropagation Example\n",
    "    * https://mattmazur.com/2015/03/17/a-step-by-step-backpropagation-example/"
   ]
  }
 ],
 "metadata": {
  "kernelspec": {
   "display_name": "Python 3 (ipykernel)",
   "language": "python",
   "name": "python3"
  },
  "language_info": {
   "codemirror_mode": {
    "name": "ipython",
    "version": 3
   },
   "file_extension": ".py",
   "mimetype": "text/x-python",
   "name": "python",
   "nbconvert_exporter": "python",
   "pygments_lexer": "ipython3",
   "version": "3.9.18"
  }
 },
 "nbformat": 4,
 "nbformat_minor": 5
}
