{
 "cells": [
  {
   "cell_type": "markdown",
   "id": "529da138-2ae4-451e-a884-ed37ad6bd8a5",
   "metadata": {},
   "source": [
    "# **SIN 393 – Introduction to Computer Vision (2023)**\n",
    "\n",
    "# Prova 01 \n",
    "\n",
    "Prof. João Fernando Mari ([*joaofmari.github.io*](https://joaofmari.github.io/))\n",
    "\n",
    "---"
   ]
  },
  {
   "cell_type": "code",
   "execution_count": 18,
   "id": "16c4b154",
   "metadata": {},
   "outputs": [],
   "source": [
    "import numpy as np\n",
    "from sklearn import metrics\n",
    "from scipy import spatial\n",
    "import matplotlib.pyplot as plt\n"
   ]
  },
  {
   "cell_type": "markdown",
   "id": "7ebf871b-3fe8-427c-93da-e5e639ed6ab1",
   "metadata": {},
   "source": [
    "## Exercício 1"
   ]
  },
  {
   "cell_type": "code",
   "execution_count": 2,
   "id": "93eb5375-5c47-4978-92ee-ee31cb4473cd",
   "metadata": {},
   "outputs": [],
   "source": [
    "X = np.array([[2, 6],\n",
    "              [4, 2],\n",
    "              [6, 2],\n",
    "              [2, 3],\n",
    "              [1, 7],\n",
    "              [8, 4],\n",
    "              [1, 4],\n",
    "              [4, 8],\n",
    "              [9, 3]])\n",
    "\n",
    "y = np.array([2, 0, 1, 0, 2, 1, 0, 2, 1])\n",
    "\n",
    "X_test = np.array([[2, 6],\n",
    "                   [2, 4],\n",
    "                   [6, 3]])"
   ]
  },
  {
   "cell_type": "code",
   "execution_count": 3,
   "id": "a87b0be9-8ee9-48a7-8f29-4233c44ca2be",
   "metadata": {},
   "outputs": [],
   "source": [
    "d_mat = spatial.distance_matrix(X_test, X)"
   ]
  },
  {
   "cell_type": "code",
   "execution_count": 17,
   "id": "8cfb1cd5-e4d0-486a-aea0-4ee63d1099f3",
   "metadata": {},
   "outputs": [
    {
     "name": "stdout",
     "output_type": "stream",
     "text": [
      "[[0.     4.4721 5.6569 3.     1.4142 6.3246 2.2361 2.8284 7.6158]\n",
      " [2.     2.8284 4.4721 1.     3.1623 6.     1.     4.4721 7.0711]\n",
      " [5.     2.2361 1.     4.     6.4031 2.2361 5.099  5.3852 3.    ]]\n"
     ]
    }
   ],
   "source": [
    "np.set_printoptions(precision=4)\n",
    "\n",
    "print(d_mat)"
   ]
  },
  {
   "cell_type": "code",
   "execution_count": null,
   "id": "8a5f48f3-0f60-4eb3-b7f4-426969d2df1f",
   "metadata": {},
   "outputs": [],
   "source": [
    "# plt.plot("
   ]
  },
  {
   "cell_type": "markdown",
   "id": "02d42252-69f7-4495-8a97-b1ccc7b1a7f6",
   "metadata": {},
   "source": [
    "## Exercício 2"
   ]
  },
  {
   "cell_type": "code",
   "execution_count": 5,
   "id": "be4262b6-3bc5-4934-b966-f24f55a763e2",
   "metadata": {},
   "outputs": [],
   "source": [
    "pred = np.array([0, 1, 2, 0, 1, 1, 1, 1, 1, 2, 2, 2])\n",
    "true = np.array([0, 0, 0, 0, 1, 1, 1, 1, 2, 2, 2, 2])"
   ]
  },
  {
   "cell_type": "code",
   "execution_count": 6,
   "id": "77709476-8d1d-4f75-964b-d0dfcc91e1be",
   "metadata": {},
   "outputs": [],
   "source": [
    "cm = metrics.confusion_matrix(true, pred)\n",
    "report = metrics.classification_report(true, pred)"
   ]
  },
  {
   "cell_type": "code",
   "execution_count": 7,
   "id": "7129d6f4-831a-4f94-b772-c1da88396bc5",
   "metadata": {},
   "outputs": [
    {
     "name": "stdout",
     "output_type": "stream",
     "text": [
      "[[2 1 1]\n",
      " [0 4 0]\n",
      " [0 1 3]]\n"
     ]
    }
   ],
   "source": [
    "print(cm)"
   ]
  },
  {
   "cell_type": "code",
   "execution_count": 8,
   "id": "53e673d7-f595-4af8-873b-06a5f3b81f8e",
   "metadata": {},
   "outputs": [
    {
     "name": "stdout",
     "output_type": "stream",
     "text": [
      "              precision    recall  f1-score   support\n",
      "\n",
      "           0       1.00      0.50      0.67         4\n",
      "           1       0.67      1.00      0.80         4\n",
      "           2       0.75      0.75      0.75         4\n",
      "\n",
      "    accuracy                           0.75        12\n",
      "   macro avg       0.81      0.75      0.74        12\n",
      "weighted avg       0.81      0.75      0.74        12\n",
      "\n"
     ]
    }
   ],
   "source": [
    "print(report)"
   ]
  },
  {
   "cell_type": "markdown",
   "id": "675c82ea-b551-4c62-a2f3-f63b823d7a36",
   "metadata": {},
   "source": [
    "## Exercício 3"
   ]
  },
  {
   "cell_type": "code",
   "execution_count": 9,
   "id": "2fa7b0ab-950a-4a02-acd9-efcc1bfc3ee4",
   "metadata": {},
   "outputs": [],
   "source": [
    "W0 = np.array([[0.3, 0.1, 0.2],\n",
    "               [0.1, 0.2, 0.4]])\n",
    "\n",
    "b0 = np.array([0.5, 0.2, 0.7])\n",
    "\n",
    "W1 = np.array([[0.4, 0.1], \n",
    "               [0.2, 0.3],\n",
    "               [0.5, 0.6]])\n",
    "b1 = np.array([0.1, 0.3])"
   ]
  },
  {
   "cell_type": "code",
   "execution_count": 10,
   "id": "4d8fa317-19d3-4e82-8682-fa487d6696ad",
   "metadata": {},
   "outputs": [],
   "source": [
    "x = np.array([0.8, 0.3])\n",
    "y = np.array([1.0, 0.0]) "
   ]
  },
  {
   "cell_type": "code",
   "execution_count": 11,
   "id": "4b52f084-81da-411c-acd2-7c943eab08ef",
   "metadata": {},
   "outputs": [
    {
     "name": "stdout",
     "output_type": "stream",
     "text": [
      "[0.77 0.34 0.98]\n"
     ]
    }
   ],
   "source": [
    "v0 = np.dot(x, W0) + b0\n",
    "print(v0)"
   ]
  },
  {
   "cell_type": "code",
   "execution_count": 12,
   "id": "d749dc37-d129-4f9e-b9cd-2a49960f4d53",
   "metadata": {},
   "outputs": [
    {
     "name": "stdout",
     "output_type": "stream",
     "text": [
      "[0.77 0.34 0.98]\n"
     ]
    }
   ],
   "source": [
    "y0 = np.maximum(v0, 0)\n",
    "print(y0)"
   ]
  },
  {
   "cell_type": "code",
   "execution_count": 13,
   "id": "f044ebdc-435a-4895-978a-b48c3de1760e",
   "metadata": {},
   "outputs": [
    {
     "name": "stdout",
     "output_type": "stream",
     "text": [
      "[0.966 1.067]\n"
     ]
    }
   ],
   "source": [
    "v1 = np.dot(y0, W1) + b1\n",
    "print(v1)"
   ]
  },
  {
   "cell_type": "code",
   "execution_count": 14,
   "id": "b5dbd5c4-04eb-4c03-8da3-f21df9e978f8",
   "metadata": {},
   "outputs": [
    {
     "name": "stdout",
     "output_type": "stream",
     "text": [
      "[0.4748 0.5252]\n"
     ]
    }
   ],
   "source": [
    "y_ = np.exp(v1)\n",
    "y1 = y_ / y_.sum()\n",
    "print(y1)"
   ]
  },
  {
   "cell_type": "code",
   "execution_count": 15,
   "id": "91b3f573-7ed0-4bb7-a88b-b51b109e2399",
   "metadata": {},
   "outputs": [
    {
     "data": {
      "text/plain": [
       "1.0"
      ]
     },
     "execution_count": 15,
     "metadata": {},
     "output_type": "execute_result"
    }
   ],
   "source": [
    "y1.sum()"
   ]
  },
  {
   "cell_type": "code",
   "execution_count": 16,
   "id": "d716bce2-b1b3-40f1-a3a3-1640d61ba6c1",
   "metadata": {},
   "outputs": [
    {
     "name": "stdout",
     "output_type": "stream",
     "text": [
      "0.7449217639469883\n"
     ]
    }
   ],
   "source": [
    "e_ = y * np.log(y1)\n",
    "e = -e_.sum()\n",
    "print(e)"
   ]
  }
 ],
 "metadata": {
  "hide_input": false,
  "kernelspec": {
   "display_name": "Python 3 (ipykernel)",
   "language": "python",
   "name": "python3"
  },
  "language_info": {
   "codemirror_mode": {
    "name": "ipython",
    "version": 3
   },
   "file_extension": ".py",
   "mimetype": "text/x-python",
   "name": "python",
   "nbconvert_exporter": "python",
   "pygments_lexer": "ipython3",
   "version": "3.9.18"
  },
  "toc": {
   "base_numbering": 1,
   "nav_menu": {},
   "number_sections": true,
   "sideBar": true,
   "skip_h1_title": false,
   "title_cell": "Table of Contents",
   "title_sidebar": "Contents",
   "toc_cell": false,
   "toc_position": {},
   "toc_section_display": true,
   "toc_window_display": false
  }
 },
 "nbformat": 4,
 "nbformat_minor": 5
}
